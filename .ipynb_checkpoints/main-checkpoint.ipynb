{
 "cells": [
  {
   "cell_type": "code",
   "execution_count": 1,
   "id": "eabe3191",
   "metadata": {},
   "outputs": [],
   "source": [
    "# https://pypi.org/project/torch-geometric/\n",
    "# pip install torch\n",
    "# pip install torch-scatter -f https://data.pyg.org/whl/torch-1.13.0+cpu.html\n",
    "# pip install torch-sparse -f https://data.pyg.org/whl/torch-1.13.0+cpu.html\n",
    "# pip install torch-geometric\n",
    "\n",
    "\n",
    "# https://towardsdatascience.com/louvains-algorithm-for-community-detection-in-python-95ff7f675306\n",
    "import torch\n",
    "from torch import Tensor\n",
    "from torch_geometric.nn import GCNConv\n",
    "from torch_geometric.datasets import Planetoid\n",
    "import pandas as pd\n",
    "import numpy as np\n",
    "import matplotlib.pyplot as plt\n",
    "import networkx as nx\n",
    "from collections import Counter "
   ]
  },
  {
   "cell_type": "code",
   "execution_count": 2,
   "id": "d918ba53",
   "metadata": {},
   "outputs": [],
   "source": [
    "# plot the data\n",
    "from utils.visual import plot\n",
    "\n",
    "#plot(0) "
   ]
  },
  {
   "cell_type": "code",
   "execution_count": 3,
   "id": "67222590",
   "metadata": {},
   "outputs": [],
   "source": [
    "import re\n",
    "\n",
    "def find_train_ego_index():\n",
    "    pre, pree = [], []\n",
    "    for item in train.files:\n",
    "        pre.append(int(re.sub('\\D', '',item )))\n",
    "\n",
    "    for i in egonet.files:\n",
    "        pree.append(int(re.sub('\\D', '',i )))\n",
    "        \n",
    "    train_ego_index = []\n",
    "    for i in range(len(pree)):\n",
    "        if pree[i] in pre:\n",
    "            train_ego_index.append(i)\n",
    "    return train_ego_index, pree, pre"
   ]
  },
  {
   "cell_type": "code",
   "execution_count": 4,
   "id": "06a749da",
   "metadata": {},
   "outputs": [],
   "source": [
    "# self-made packages\n",
    "from utils.data import data_preprocess\n",
    "\n",
    "\n",
    "train = data_preprocess(\"\\Training\")\n",
    "train_list, train_dict = train.train_data()\n",
    "df = pd.DataFrame(data=train_dict)"
   ]
  },
  {
   "cell_type": "code",
   "execution_count": 5,
   "id": "c3f6b809",
   "metadata": {},
   "outputs": [],
   "source": [
    "egonet = data_preprocess(\"\\egonets\")\n",
    "ego_list, user_list = egonet.ego_data()"
   ]
  },
  {
   "cell_type": "code",
   "execution_count": 6,
   "id": "04dcfd7e",
   "metadata": {},
   "outputs": [],
   "source": [
    "# 這個是指應該將哪些 ego_list 用在 training，方便輸入0,1,2，就不用輸入 239、345、661...\n",
    "train_ego_index,ego_user, train_user  = find_train_ego_index()"
   ]
  },
  {
   "cell_type": "markdown",
   "id": "b9368245",
   "metadata": {},
   "source": [
    "## Data Preparation"
   ]
  },
  {
   "cell_type": "code",
   "execution_count": 7,
   "id": "527e3e83",
   "metadata": {},
   "outputs": [],
   "source": [
    "from utils.user import users\n",
    "\n",
    "users = users()\n",
    "index = user_list[train_ego_index[2]] # 更改數字可以挑選要哪一個 training data \n",
    "\n",
    "# edge information EX: (240, 241), (240, 242)...\n",
    "edge1 = egonet.edge_data(train_ego_index[0])"
   ]
  },
  {
   "cell_type": "code",
   "execution_count": 8,
   "id": "b9fcca67",
   "metadata": {},
   "outputs": [],
   "source": [
    "#users = pd.read_csv('df_new_friend.csv') #把註解拿掉代表讀取新的feature"
   ]
  },
  {
   "cell_type": "markdown",
   "id": "cfb01a0a",
   "metadata": {},
   "source": [
    "## Predict Data"
   ]
  },
  {
   "cell_type": "code",
   "execution_count": 206,
   "id": "39e416bb",
   "metadata": {},
   "outputs": [],
   "source": [
    "circlesP = {}\n",
    "\n",
    "# 這裡是整理所有的 predict data，但因為目前沒有所以暫時用 training 的代替\n",
    "for i in range(len(train_dict)):\n",
    "    uidP,friendsP = train_dict[i]['UserId'], train_dict[i]['Predicted'] # predict \n",
    "    circlesP[int(uidP)] = [set([int(x) for x in c.split()]) for c in friendsP.split(';')]"
   ]
  },
  {
   "cell_type": "markdown",
   "id": "27860602",
   "metadata": {},
   "source": [
    "## Connected Component\n",
    "#### 測試connected component"
   ]
  },
  {
   "cell_type": "code",
   "execution_count": 10,
   "id": "54e69a91",
   "metadata": {},
   "outputs": [],
   "source": [
    "from connected_components import findCommunities\n",
    "import sys, os\n",
    "\n",
    "def connected_componet(target_dir):\n",
    "    egoUser = -1\n",
    "    try:\n",
    "        egoUser = int(re.sub(\"\\D\", '', target_dir))\n",
    "    except Exception as e:\n",
    "        print(\"Expected files to be names 'X.egonet' where X is a user ID\")\n",
    "\n",
    "    cs = list(findCommunities(target_dir))\n",
    "\n",
    "    if len(cs) == 0:\n",
    "        cs = [set(adj.keys())]\n",
    "    cs = [' '.join([str(y) for y in x]) for x in cs]\n",
    "    res = str(egoUser) + ',' + ';'.join(cs)\n",
    "    \n",
    "    return res\n",
    "    "
   ]
  },
  {
   "cell_type": "code",
   "execution_count": 11,
   "id": "bf1ce2f7",
   "metadata": {},
   "outputs": [],
   "source": [
    "def process(test_ego_num):\n",
    "    return [{\n",
    "            'UserId': test_ego_num.split(',')[0],\n",
    "            'Predicted': test_ego_num.split(',')[1]\n",
    "            }]\n"
   ]
  },
  {
   "cell_type": "code",
   "execution_count": 12,
   "id": "8b99065c",
   "metadata": {},
   "outputs": [],
   "source": [
    "connect_egonet = []\n",
    "for i in range(len(train.files)):\n",
    "    target_dir = os.getcwd()+\"\\\\egonets\\\\\"+train.files[i].replace('circles', 'egonet')\n",
    "    test_ego_num = connected_componet(target_dir)\n",
    "    test = process(test_ego_num)\n",
    "    connect_egonet+=(test)"
   ]
  },
  {
   "cell_type": "markdown",
   "id": "2fe9aaa6",
   "metadata": {},
   "source": [
    "# Caculate Loss\n",
    "### 之後可能要放進一個mode裡面當作 objective function 之類的，這邊先暫時表達一次性的評分"
   ]
  },
  {
   "cell_type": "markdown",
   "id": "8ad4b88e",
   "metadata": {},
   "source": [
    "## Model"
   ]
  },
  {
   "cell_type": "code",
   "execution_count": 487,
   "id": "23bb8af1",
   "metadata": {},
   "outputs": [],
   "source": [
    "from sklearn.cluster import KMeans\n",
    "\n",
    "def exe(n_clusters):\n",
    "    km = KMeans(\n",
    "        n_clusters=n_clusters, init='random',\n",
    "        n_init=10, max_iter=300, \n",
    "        tol=1e-04, random_state=2\n",
    "    )\n",
    "    final, indexx = [], []\n",
    "    for i in range(len(train_ego_index)):\n",
    "        index = user_list[train_ego_index[i]] # 更改數字可以挑選要哪一個 training data \n",
    "        test = users.iloc[index]\n",
    "\n",
    "        X = np.array(test).astype(np.int64)\n",
    "        return X\n",
    "        y_km = km.fit(X)\n",
    "        predict = y_km.predict(X)\n",
    "        final.append(predict)\n",
    "        indexx.append(index)\n",
    "    return final, indexx"
   ]
  },
  {
   "cell_type": "code",
   "execution_count": 322,
   "id": "d5fcef2c",
   "metadata": {},
   "outputs": [],
   "source": [
    "from socialCircles_metric import loss1\n",
    "\n",
    "def temperal(train_dict):\n",
    "        \n",
    "    circlesG = {}\n",
    "\n",
    "    for i in range(len(train_dict)):\n",
    "        uidG,friendsG = train_dict[i]['UserId'], train_dict[i]['Predicted'] # ground truth\n",
    "        circlesG[int(uidG)] = [set([int(x) for x in c.split()]) for c in friendsG.split(';')] \n",
    "        \n",
    "        \n",
    "    totalLoss = 0\n",
    "    for k in circlesP.keys():\n",
    "        try:\n",
    "            if k not in circlesG:\n",
    "                print(\"Ground-truth has prediction for circle\", k, \"but prediction does not\")\n",
    "                break\n",
    "\n",
    "            l = loss1(circlesG[k], circlesP[k])\n",
    "            #print(\"loss for user\", k, \"=\", l)\n",
    "            totalLoss += l\n",
    "        except:\n",
    "            continue\n",
    "            \n",
    "    print(\"total loss for all users =\", totalLoss)"
   ]
  },
  {
   "cell_type": "code",
   "execution_count": 295,
   "id": "97b7b5d4",
   "metadata": {},
   "outputs": [],
   "source": [
    "def data(n_clusters):\n",
    "\n",
    "    final, index = exe(n_clusters)\n",
    "    \n",
    "    resss = []\n",
    "    for k in range(len(final)):\n",
    "        fina = \"\"\n",
    "        for i in range(n_clusters):\n",
    "            tem = ''\n",
    "\n",
    "            for j in range(len(final[k])):\n",
    "                if final[k][j] == i:\n",
    "                    tem+= ' ' + str(index[k][j])\n",
    "            fina += tem.strip() + ';'\n",
    "        resss.append(fina)\n",
    "        \n",
    "    transform_label = []\n",
    "    \n",
    "    for i in range(len(index)):\n",
    "        transform_label.append({\"UserId\":index[i][0]-1, \"Predicted\":resss[i].strip()[:-1]})\n",
    "        \n",
    "    return transform_label"
   ]
  },
  {
   "cell_type": "code",
   "execution_count": 296,
   "id": "6d8caee8",
   "metadata": {},
   "outputs": [
    {
     "name": "stdout",
     "output_type": "stream",
     "text": [
      "total loss for all users = 17625\n"
     ]
    }
   ],
   "source": [
    "temperal(connect_egonet)"
   ]
  },
  {
   "cell_type": "code",
   "execution_count": 297,
   "id": "1df188fc",
   "metadata": {},
   "outputs": [
    {
     "name": "stdout",
     "output_type": "stream",
     "text": [
      "total loss for all users = 0\n"
     ]
    }
   ],
   "source": [
    "temperal(train_dict)"
   ]
  },
  {
   "cell_type": "code",
   "execution_count": 298,
   "id": "3f02fe2d",
   "metadata": {},
   "outputs": [],
   "source": [
    "index = train_ego_index[30]\n",
    "first_user = user_list[index][0]"
   ]
  },
  {
   "cell_type": "code",
   "execution_count": 299,
   "id": "540f0f92",
   "metadata": {},
   "outputs": [],
   "source": [
    "from collections import Counter\n",
    "\n",
    "def count_similarity(a, b):\n",
    "    count = 0\n",
    "    for i in range(len(a)):\n",
    "        if (a[i] != -1) and (a[i] == b[i]):\n",
    "            count+=1\n",
    "            \n",
    "    return count/(len(a) - Counter(a)[-1]) # 分母為去除掉 -1 的個數"
   ]
  },
  {
   "cell_type": "code",
   "execution_count": 300,
   "id": "a5c629eb",
   "metadata": {},
   "outputs": [],
   "source": [
    "test = users.iloc[user_list[index]]"
   ]
  },
  {
   "cell_type": "code",
   "execution_count": 301,
   "id": "a7545e47",
   "metadata": {},
   "outputs": [],
   "source": [
    "res = []\n",
    "for j in range(len(user_list[index])):\n",
    "    user, friend = ego_list[index][j][0], ego_list[index][j][1:]\n",
    "    temp1 = []\n",
    "    for i in range(len(friend)):\n",
    "        temp1.append(count_similarity(test.iloc[user-first_user], test.iloc[friend[i] - first_user]))\n",
    "    res.append(temp1)"
   ]
  },
  {
   "cell_type": "code",
   "execution_count": 302,
   "id": "7f266151",
   "metadata": {
    "collapsed": true
   },
   "outputs": [
    {
     "data": {
      "text/plain": [
       "[[0.11764705882352941,\n",
       "  0.058823529411764705,\n",
       "  0.058823529411764705,\n",
       "  0.11764705882352941],\n",
       " [0.0, 0.2, 0.1, 0.0],\n",
       " [0.0],\n",
       " [0.1, 0.2, 0.1, 0.1, 0.2, 0.2, 0.2, 0.1, 0.3, 0.2, 0.2],\n",
       " [0.0,\n",
       "  0.0,\n",
       "  0.0,\n",
       "  0.07692307692307693,\n",
       "  0.07692307692307693,\n",
       "  0.07692307692307693,\n",
       "  0.07692307692307693,\n",
       "  0.07692307692307693,\n",
       "  0.0,\n",
       "  0.15384615384615385,\n",
       "  0.07692307692307693,\n",
       "  0.07692307692307693,\n",
       "  0.07692307692307693,\n",
       "  0.07692307692307693,\n",
       "  0.0,\n",
       "  0.15384615384615385,\n",
       "  0.07692307692307693,\n",
       "  0.15384615384615385,\n",
       "  0.07692307692307693,\n",
       "  0.0,\n",
       "  0.15384615384615385,\n",
       "  0.07692307692307693,\n",
       "  0.07692307692307693,\n",
       "  0.15384615384615385,\n",
       "  0.07692307692307693],\n",
       " [0.0, 0.0, 0.125, 0.1875, 0.125, 0.1875],\n",
       " [0.1111111111111111,\n",
       "  0.1111111111111111,\n",
       "  0.2222222222222222,\n",
       "  0.1111111111111111],\n",
       " [0.125, 0.125, 0.125, 0.125],\n",
       " [0.1875],\n",
       " [],\n",
       " [0.3333333333333333],\n",
       " [0.16666666666666666, 0.0, 0.16666666666666666],\n",
       " [0.14285714285714285, 0.14285714285714285, 0.14285714285714285],\n",
       " [0.0625, 0.0625, 0.0625, 0.125, 0.0625],\n",
       " [0.0625, 0.375, 0.0625, 0.0625],\n",
       " [0.047619047619047616],\n",
       " [0.0625, 0.125, 0.0625, 0.0, 0.0625, 0.0, 0.0, 0.0625, 0.0, 0.0625, 0.0],\n",
       " [0.14285714285714285, 0.0, 0.14285714285714285, 0.14285714285714285],\n",
       " [0.1111111111111111,\n",
       "  0.1111111111111111,\n",
       "  0.2222222222222222,\n",
       "  0.2222222222222222,\n",
       "  0.1111111111111111,\n",
       "  0.2222222222222222,\n",
       "  0.1111111111111111,\n",
       "  0.2222222222222222,\n",
       "  0.1111111111111111],\n",
       " [0.2857142857142857,\n",
       "  0.0,\n",
       "  0.2857142857142857,\n",
       "  0.2857142857142857,\n",
       "  0.14285714285714285],\n",
       " [0.07142857142857142, 0.07142857142857142],\n",
       " [0.0,\n",
       "  0.0,\n",
       "  0.16666666666666666,\n",
       "  0.16666666666666666,\n",
       "  0.0,\n",
       "  0.16666666666666666,\n",
       "  0.3333333333333333,\n",
       "  0.16666666666666666],\n",
       " [0.09090909090909091],\n",
       " [0.1111111111111111,\n",
       "  0.2222222222222222,\n",
       "  0.1111111111111111,\n",
       "  0.2222222222222222],\n",
       " [0.2857142857142857,\n",
       "  0.2857142857142857,\n",
       "  0.14285714285714285,\n",
       "  0.0,\n",
       "  0.0,\n",
       "  0.0,\n",
       "  0.14285714285714285,\n",
       "  0.14285714285714285,\n",
       "  0.14285714285714285],\n",
       " [0.04, 0.08, 0.12, 0.16, 0.04, 0.04, 0.12, 0.04],\n",
       " [0.0,\n",
       "  0.0,\n",
       "  0.5,\n",
       "  0.0,\n",
       "  0.16666666666666666,\n",
       "  0.0,\n",
       "  0.0,\n",
       "  0.16666666666666666,\n",
       "  0.3333333333333333,\n",
       "  0.16666666666666666,\n",
       "  0.3333333333333333,\n",
       "  0.16666666666666666],\n",
       " [0.16666666666666666,\n",
       "  0.16666666666666666,\n",
       "  0.0,\n",
       "  0.0,\n",
       "  0.0,\n",
       "  0.16666666666666666],\n",
       " [0.1111111111111111, 0.05555555555555555, 0.05555555555555555],\n",
       " [0.08333333333333333,\n",
       "  0.0,\n",
       "  0.08333333333333333,\n",
       "  0.08333333333333333,\n",
       "  0.16666666666666666,\n",
       "  0.16666666666666666,\n",
       "  0.08333333333333333,\n",
       "  0.08333333333333333,\n",
       "  0.08333333333333333,\n",
       "  0.16666666666666666],\n",
       " [0.07142857142857142,\n",
       "  0.07142857142857142,\n",
       "  0.07142857142857142,\n",
       "  0.07142857142857142],\n",
       " [0.0, 0.09090909090909091, 0.09090909090909091, 0.18181818181818182],\n",
       " [0.16666666666666666,\n",
       "  0.3333333333333333,\n",
       "  0.16666666666666666,\n",
       "  0.16666666666666666,\n",
       "  0.3333333333333333,\n",
       "  0.3333333333333333,\n",
       "  0.16666666666666666],\n",
       " [],\n",
       " [0.2857142857142857,\n",
       "  0.14285714285714285,\n",
       "  0.2857142857142857,\n",
       "  0.14285714285714285],\n",
       " [0.16666666666666666,\n",
       "  0.16666666666666666,\n",
       "  0.16666666666666666,\n",
       "  0.16666666666666666],\n",
       " [0.14285714285714285,\n",
       "  0.2857142857142857,\n",
       "  0.0,\n",
       "  0.14285714285714285,\n",
       "  0.2857142857142857,\n",
       "  0.14285714285714285],\n",
       " [0.0, 0.05, 0.1, 0.1, 0.15, 0.15, 0.1, 0.1, 0.2, 0.05, 0.2],\n",
       " [0.09523809523809523, 0.14285714285714285],\n",
       " [0.0,\n",
       "  0.07142857142857142,\n",
       "  0.0,\n",
       "  0.07142857142857142,\n",
       "  0.14285714285714285,\n",
       "  0.07142857142857142,\n",
       "  0.14285714285714285,\n",
       "  0.14285714285714285,\n",
       "  0.21428571428571427,\n",
       "  0.14285714285714285,\n",
       "  0.14285714285714285,\n",
       "  0.14285714285714285,\n",
       "  0.21428571428571427,\n",
       "  0.07142857142857142,\n",
       "  0.07142857142857142,\n",
       "  0.07142857142857142,\n",
       "  0.14285714285714285,\n",
       "  0.21428571428571427,\n",
       "  0.07142857142857142,\n",
       "  0.21428571428571427],\n",
       " [0.07142857142857142,\n",
       "  0.07142857142857142,\n",
       "  0.07142857142857142,\n",
       "  0.07142857142857142,\n",
       "  0.14285714285714285,\n",
       "  0.21428571428571427,\n",
       "  0.2857142857142857],\n",
       " [0.0,\n",
       "  0.16666666666666666,\n",
       "  0.16666666666666666,\n",
       "  0.16666666666666666,\n",
       "  0.3333333333333333,\n",
       "  0.16666666666666666,\n",
       "  0.3333333333333333],\n",
       " [0.2, 0.0, 0.1, 0.2, 0.2, 0.1],\n",
       " [0.21428571428571427,\n",
       "  0.0,\n",
       "  0.07142857142857142,\n",
       "  0.14285714285714285,\n",
       "  0.42857142857142855],\n",
       " []]"
      ]
     },
     "execution_count": 302,
     "metadata": {},
     "output_type": "execute_result"
    }
   ],
   "source": [
    "res"
   ]
  },
  {
   "cell_type": "code",
   "execution_count": 303,
   "id": "64e44fd5",
   "metadata": {
    "collapsed": true
   },
   "outputs": [
    {
     "data": {
      "text/plain": [
       "[[11365, 11406, 11372, 11371, 11388],\n",
       " [11366, 11391, 11393, 11376, 11392],\n",
       " [11367, 11391],\n",
       " [11368,\n",
       "  11381,\n",
       "  11401,\n",
       "  11389,\n",
       "  11394,\n",
       "  11369,\n",
       "  11370,\n",
       "  11404,\n",
       "  11396,\n",
       "  11405,\n",
       "  11402,\n",
       "  11383],\n",
       " [11369,\n",
       "  11381,\n",
       "  11389,\n",
       "  11391,\n",
       "  11385,\n",
       "  11394,\n",
       "  11386,\n",
       "  11408,\n",
       "  11380,\n",
       "  11392,\n",
       "  11400,\n",
       "  11406,\n",
       "  11378,\n",
       "  11395,\n",
       "  11372,\n",
       "  11384,\n",
       "  11404,\n",
       "  11371,\n",
       "  11368,\n",
       "  11407,\n",
       "  11382,\n",
       "  11402,\n",
       "  11379,\n",
       "  11397,\n",
       "  11390,\n",
       "  11388],\n",
       " [11370, 11381, 11389, 11394, 11404, 11368, 11402],\n",
       " [11371, 11369, 11406, 11378, 11365],\n",
       " [11372, 11369, 11406, 11365, 11388],\n",
       " [11373, 11404],\n",
       " [11374],\n",
       " [11375, 11384],\n",
       " [11376, 11366, 11392, 11377],\n",
       " [11377, 11393, 11376, 11392],\n",
       " [11378, 11391, 11369, 11406, 11371, 11405],\n",
       " [11379, 11386, 11408, 11369, 11404],\n",
       " [11380, 11369],\n",
       " [11381,\n",
       "  11401,\n",
       "  11389,\n",
       "  11394,\n",
       "  11369,\n",
       "  11395,\n",
       "  11370,\n",
       "  11404,\n",
       "  11368,\n",
       "  11396,\n",
       "  11405,\n",
       "  11402],\n",
       " [11382, 11391, 11369, 11384, 11407],\n",
       " [11383, 11389, 11387, 11386, 11400, 11404, 11368, 11402, 11397, 11390],\n",
       " [11384, 11391, 11369, 11375, 11407, 11382],\n",
       " [11385, 11369, 11395],\n",
       " [11386, 11391, 11408, 11369, 11404, 11407, 11379, 11383, 11390],\n",
       " [11387, 11383],\n",
       " [11388, 11369, 11406, 11372, 11365],\n",
       " [11389, 11381, 11401, 11394, 11369, 11370, 11404, 11368, 11405, 11383],\n",
       " [11390, 11386, 11369, 11404, 11402, 11397, 11399, 11403, 11383],\n",
       " [11391,\n",
       "  11367,\n",
       "  11386,\n",
       "  11408,\n",
       "  11366,\n",
       "  11392,\n",
       "  11369,\n",
       "  11406,\n",
       "  11378,\n",
       "  11384,\n",
       "  11404,\n",
       "  11407,\n",
       "  11382],\n",
       " [11392, 11391, 11393, 11376, 11366, 11369, 11377],\n",
       " [11393, 11366, 11392, 11377],\n",
       " [11394, 11381, 11401, 11389, 11369, 11370, 11404, 11368, 11396, 11405, 11402],\n",
       " [11395, 11381, 11385, 11369, 11397],\n",
       " [11396, 11381, 11394, 11368, 11402],\n",
       " [11397, 11369, 11400, 11395, 11404, 11399, 11383, 11390],\n",
       " [11398],\n",
       " [11399, 11400, 11404, 11397, 11390],\n",
       " [11400, 11369, 11397, 11399, 11383],\n",
       " [11401, 11381, 11389, 11394, 11404, 11368, 11402],\n",
       " [11402,\n",
       "  11381,\n",
       "  11401,\n",
       "  11394,\n",
       "  11369,\n",
       "  11370,\n",
       "  11404,\n",
       "  11368,\n",
       "  11396,\n",
       "  11405,\n",
       "  11383,\n",
       "  11390],\n",
       " [11403, 11404, 11390],\n",
       " [11404,\n",
       "  11381,\n",
       "  11401,\n",
       "  11389,\n",
       "  11391,\n",
       "  11394,\n",
       "  11386,\n",
       "  11408,\n",
       "  11369,\n",
       "  11370,\n",
       "  11368,\n",
       "  11407,\n",
       "  11405,\n",
       "  11402,\n",
       "  11379,\n",
       "  11397,\n",
       "  11399,\n",
       "  11403,\n",
       "  11373,\n",
       "  11383,\n",
       "  11390],\n",
       " [11405, 11381, 11389, 11394, 11378, 11404, 11368, 11402],\n",
       " [11406, 11391, 11369, 11378, 11372, 11365, 11371, 11388],\n",
       " [11407, 11391, 11386, 11369, 11384, 11404, 11382],\n",
       " [11408, 11391, 11386, 11369, 11404, 11379],\n",
       " [11409]]"
      ]
     },
     "execution_count": 303,
     "metadata": {},
     "output_type": "execute_result"
    }
   ],
   "source": [
    "ego_list[index]"
   ]
  },
  {
   "cell_type": "code",
   "execution_count": 304,
   "id": "12d10edf",
   "metadata": {},
   "outputs": [
    {
     "name": "stdout",
     "output_type": "stream",
     "text": [
      "['8083' '4863' '714' '11312' '1' '43' -1 -1 '9640' '10181' '1' -1 -1 -1 -1\n",
      " '11368' -1 -1 -1 -1 -1 -1 -1 -1 -1 -1 -1 -1 -1 -1 -1 -1 -1 -1 -1 -1 -1 -1\n",
      " -1 -1 -1 -1 -1 -1 -1 -1 -1 -1 -1 -1 -1 -1 -1 -1 -1 -1 -1]\n",
      "['8106' '4883' -1 '11336' '0' '0' -1 -1 -1 -1 -1 -1 -1 -1 -1 '11392' -1 -1\n",
      " -1 -1 -1 -1 -1 -1 -1 -1 -1 -1 -1 -1 -1 -1 -1 -1 -1 -1 -1 -1 -1 -1 -1 -1\n",
      " -1 -1 -1 -1 -1 -1 -1 -1 -1 -1 -1 -1 -1 -1 -1]\n"
     ]
    }
   ],
   "source": [
    "print(np.array(test.iloc[11367-11364]))\n",
    "print(np.array(test.iloc[11391-11364]))"
   ]
  },
  {
   "cell_type": "code",
   "execution_count": 305,
   "id": "b26b33e6",
   "metadata": {},
   "outputs": [
    {
     "name": "stdout",
     "output_type": "stream",
     "text": [
      "Circle1:  ['11366', '11376', '11377', '11391', '11392', '11393']\n",
      "\n",
      "Circle2:  ['11366', '11376', '11377', '11391', '11392', '11393']\n",
      "\n",
      "Circle3:  ['11368', '11370', '11371', '11378', '11381', '11383', '11389', '11390', '11394', '11395', '11396', '11399', '11401', '11403', '11404', '11405', '11406']\n",
      "\n",
      "Circle4:  ['11367', '11374', '11380', '11382', '11385', '11386', '11391', '11407', '11408']\n",
      "\n"
     ]
    }
   ],
   "source": [
    "print(\"Circle1: \", sorted(train_list[30][0]), end='\\n\\n')\n",
    "print(\"Circle2: \", sorted(train_list[30][1]), end='\\n\\n')\n",
    "print(\"Circle3: \", sorted(train_list[30][2]), end='\\n\\n')\n",
    "print(\"Circle4: \", sorted(train_list[30][3]), end='\\n\\n')"
   ]
  },
  {
   "cell_type": "code",
   "execution_count": 307,
   "id": "2633db77",
   "metadata": {
    "collapsed": true
   },
   "outputs": [
    {
     "data": {
      "image/png": "[encoded data removed]",
      "text/plain": [
       "<Figure size 640x480 with 1 Axes>"
      ]
     },
     "metadata": {},
     "output_type": "display_data"
    }
   ],
   "source": [
    "color_map = []\n",
    "node_groups = []\n",
    "\n",
    "for i in range(len(train_list[0])):\n",
    "    node_groups.append(list(map(int, train_list[30][i])))\n",
    "\n",
    "for node in G:\n",
    "    temp = len(color_map)\n",
    "    for i in range(len(node_groups)):\n",
    "        if node in node_groups[i]:\n",
    "            color_map.append(colors[i])\n",
    "            break\n",
    "\n",
    "    # if no element add, then the node is not in any list         \n",
    "    if temp == len(color_map):\n",
    "        color_map.append(\"red\")\n",
    "\n",
    "nx.draw(G, node_color=color_map, with_labels=True)\n",
    "plt.show()"
   ]
  },
  {
   "cell_type": "code",
   "execution_count": 482,
   "id": "2a9868d0",
   "metadata": {},
   "outputs": [],
   "source": [
    "import community\n",
    "from utils.visual import plot, draw, colors\n",
    "import networkx as nx\n",
    "import networkx.algorithms.community as nx_comm\n",
    "\n",
    "# Create a graph using NetworkX\n",
    "def do():\n",
    "    aa=[]\n",
    "    bb={}\n",
    "    \n",
    "    for i in range(len(train_ego_index)):\n",
    "        index = train_ego_index[i]\n",
    "        first_user = user_list[index][0]\n",
    "        temp_path = os.path.join(egonet.target_dir, egonet.files[index]) #51\n",
    "        G = draw(temp_path)\n",
    "        \n",
    "        bb[first_user-1] = nx_comm.louvain_communities(G,threshold=0.1 , seed=123)\n",
    "\n",
    "#         partition = community.best_partition(G)\n",
    "#         res = sorted(partition.items(), key=lambda item: item[1])\n",
    "#         aa+=process_res(res, index)\n",
    "    return bb #aa"
   ]
  },
  {
   "cell_type": "code",
   "execution_count": 483,
   "id": "0f8f3252",
   "metadata": {},
   "outputs": [],
   "source": [
    "def process_res(res, first_user):\n",
    "    temp = ''\n",
    "    index = 0\n",
    "    a = ''\n",
    "    for i in range(len(res)):\n",
    "        if index != res[i][1]:\n",
    "            index = res[i][1]\n",
    "            temp += a.strip() + ';'\n",
    "            a = ''\n",
    "        a += ' '+str(res[i][0])\n",
    "    temp += a.strip()\n",
    "        \n",
    "    return [{'UserId':first_user-1, 'Predicted':temp}]"
   ]
  },
  {
   "cell_type": "code",
   "execution_count": 484,
   "id": "035844b3",
   "metadata": {},
   "outputs": [],
   "source": [
    "aaa = do()"
   ]
  },
  {
   "cell_type": "code",
   "execution_count": 485,
   "id": "709d12dd",
   "metadata": {},
   "outputs": [],
   "source": [
    "from socialCircles_metric import loss1\n",
    "\n",
    "def another_temperal(circlesG):\n",
    "        \n",
    "    totalLoss = 0\n",
    "    for k in circlesP.keys():\n",
    "        try:\n",
    "            if k not in circlesG:\n",
    "                print(\"Ground-truth has prediction for circle\", k, \"but prediction does not\")\n",
    "                #break\n",
    "\n",
    "            l = loss1(circlesG[k], circlesP[k])\n",
    "            #print(\"loss for user\", k, \"=\", l)\n",
    "            totalLoss += l\n",
    "        except:\n",
    "            continue\n",
    "            \n",
    "    print(\"total loss for all users =\", totalLoss)"
   ]
  },
  {
   "cell_type": "code",
   "execution_count": 486,
   "id": "50afb84f",
   "metadata": {},
   "outputs": [
    {
     "name": "stdout",
     "output_type": "stream",
     "text": [
      "total loss for all users = 13097\n"
     ]
    }
   ],
   "source": [
    "another_temperal(aaa)"
   ]
  },
  {
   "cell_type": "code",
   "execution_count": null,
   "id": "45c3195f",
   "metadata": {},
   "outputs": [],
   "source": []
  }
 ],
 "metadata": {
  "kernelspec": {
   "display_name": "data",
   "language": "python",
   "name": "data"
  },
  "language_info": {
   "codemirror_mode": {
    "name": "ipython",
    "version": 3
   },
   "file_extension": ".py",
   "mimetype": "text/x-python",
   "name": "python",
   "nbconvert_exporter": "python",
   "pygments_lexer": "ipython3",
   "version": "3.10.3"
  }
 },
 "nbformat": 4,
 "nbformat_minor": 5
}
