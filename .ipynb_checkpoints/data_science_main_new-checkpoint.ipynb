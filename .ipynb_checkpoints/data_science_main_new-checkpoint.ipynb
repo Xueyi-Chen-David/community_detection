{
 "cells": [
  {
   "cell_type": "code",
   "execution_count": null,
   "id": "f2d9b2db",
   "metadata": {},
   "outputs": [],
   "source": [
    "# https://pypi.org/project/torch-geometric/\n",
    "# pip install torch\n",
    "# pip install torch-scatter -f https://data.pyg.org/whl/torch-1.13.0+cpu.html\n",
    "# pip install torch-sparse -f https://data.pyg.org/whl/torch-1.13.0+cpu.html\n",
    "# pip install torch-geometric\n",
    "\n",
    "\n",
    "# https://towardsdatascience.com/louvains-algorithm-for-community-detection-in-python-95ff7f675306\n",
    "import torch\n",
    "from torch import Tensor\n",
    "from torch_geometric.nn import GCNConv\n",
    "from torch_geometric.datasets import Planetoid\n",
    "import pandas as pd\n",
    "import numpy as np\n",
    "import matplotlib.pyplot as plt\n",
    "import networkx as nx\n",
    "from collections import Counter "
   ]
  },
  {
   "cell_type": "markdown",
   "id": "22f3cde7",
   "metadata": {},
   "source": [
    "# 一、Data Inclusion\n",
    "<br>\n",
    "先將 training data include 進來，可以使用 print 看一下 train_data 長甚麼樣子，基本上就是以下這個 format <p>circleID: friend1 friend2 friend3 ... <p/>\n",
    "\n",
    "總共有57種 features<br>"
   ]
  },
  {
   "cell_type": "code",
   "execution_count": null,
   "id": "6c8f9f8e",
   "metadata": {
    "scrolled": true
   },
   "outputs": [],
   "source": [
    "import os\n",
    "\n",
    "# Include Training dataset\n",
    "target_dir = os.getcwd()+\"\\Training\"\n",
    "\n",
    "data = []\n",
    "for filename in os.listdir(target_dir):\n",
    "    with open(os.path.join(target_dir, filename), 'r') as f:\n",
    "        data += f.readlines()\n",
    "\n",
    "circle_data = []\n",
    "for i in range(len(data)):\n",
    "    circle_data.append(data[i].split()[1:]) # circle* is seems not nesseary\n",
    "\n",
    "print(f\"number of trainin data: {len(circle_data)}\")\n",
    "    \n",
    "    \n",
    "    \n",
    "# Total is 57 kinds of features\n",
    "\n",
    "with open(\"featureList.txt\", 'r') as f:\n",
    "    feature_list = f.readlines()\n",
    "\n",
    "for i in range(len(feature_list)):\n",
    "    feature_list[i] = feature_list[i].replace('\\n', '')\n",
    "\n",
    "print(f\"number of features : {len(feature_list)}\")\n"
   ]
  },
  {
   "cell_type": "markdown",
   "id": "d8e6ba5b",
   "metadata": {},
   "source": [
    "### Include Egonet data"
   ]
  },
  {
   "cell_type": "code",
   "execution_count": null,
   "id": "921b5117",
   "metadata": {},
   "outputs": [],
   "source": [
    "egonets = []\n",
    "\n",
    "for filename in os.listdir(os.getcwd()+\"\\egonets\"):\n",
    "    with open(os.path.join(os.getcwd()+\"\\egonets\", filename), 'r') as f:\n",
    "        ego_temp = f.readlines()\n",
    "        a = []\n",
    "        for i in range(len(ego_temp)):\n",
    "            a += [int(ego_temp[i].split(':')[0])]\n",
    "        egonets.append( dict(user=filename.split('.')[0], circle = a))\n",
    "    "
   ]
  },
  {
   "cell_type": "code",
   "execution_count": null,
   "id": "aa026143",
   "metadata": {},
   "outputs": [],
   "source": [
    "total_ego_user = [] \n",
    "\n",
    "for i in range(110):\n",
    "    total_ego_user.append(int(egonets[i]['user']))"
   ]
  },
  {
   "cell_type": "markdown",
   "id": "87067ba7",
   "metadata": {},
   "source": [
    "# 二、Data Preprocessing\n",
    "\n",
    "之後可以在這裡做一些 feature selection 之類的、或者視覺化<br>\n",
    "有一些 features 是 NaN，可以做一些處理"
   ]
  },
  {
   "cell_type": "markdown",
   "id": "9899192d",
   "metadata": {},
   "source": [
    "舉例:   \n",
    "26321.circles 和 25773.circles 都有circle 10分別是  \n",
    "26321.circles -> circle10: 26379 26455 26482 26340 26409 26366 26390 26477 26415 26462 26402  \n",
    "25773.circles -> circle10: 25787 25924 25947 25836 25817 25857 25902 25815 25821 25774 25961 ...\n",
    "  \n",
    "應該要將同樣 circle 的 user 加在一起，因為他們都是同一個 circle  \n",
    "  \n",
    "在沒這樣做之前，circle會重複，所以會誤以為是 592個，但實際上應該是455個才對"
   ]
  },
  {
   "cell_type": "code",
   "execution_count": null,
   "id": "d98b00d1",
   "metadata": {},
   "outputs": [],
   "source": [
    "# 先找出重複的circle有幾個，再針對他們做合併，應該比較快，就不用一個一個還要重複掃\n",
    "tes = []\n",
    "for i in range(len(data)):\n",
    "    tes.append(data[i].split(':')[0])\n",
    "\n",
    "a = Counter(tes).most_common()[:46] # 有重複的總共46個\n",
    "b = []\n",
    "for i in range(len(a)):\n",
    "    b.append(a[i][0])\n",
    "print(f\"Show the fist 5 elements: {b[:5]}\")\n",
    "print(f\"Actually circle numbers: {len(Counter(tes))} not {len(tes)}\")\n",
    "\n",
    "del a"
   ]
  },
  {
   "cell_type": "code",
   "execution_count": null,
   "id": "ca7f862d",
   "metadata": {},
   "outputs": [],
   "source": [
    "circle = []\n",
    "\n",
    "for target in b:\n",
    "    temp = []\n",
    "    for i in range(len(data)):\n",
    "        circle_name = data[i].split(':')[:1][0]\n",
    "        if circle_name == target:\n",
    "            temp += data[i].split()[1:]\n",
    "\n",
    "    circle.append(temp)\n",
    "\n",
    "for i in range(len(data)):\n",
    "    circle_name = data[i].split(':')[:1][0]\n",
    "    \n",
    "    if circle_name not in b: #如果 circle name 沒有重複的名單中，加入到list中\n",
    "        circle.append(data[i].split()[1:])\n",
    "        \n",
    "print(f\"Examine if the number is correct : {len(circle)}. The answer is yes, we eliminate repeated circles.\")\n",
    "\n",
    "del b"
   ]
  },
  {
   "cell_type": "markdown",
   "id": "68431a97",
   "metadata": {},
   "source": [
    "#### label每個node"
   ]
  },
  {
   "cell_type": "code",
   "execution_count": null,
   "id": "38767c64",
   "metadata": {},
   "outputs": [],
   "source": [
    "# initialization every user's label\n",
    "\n",
    "def label_data(x, circle): # x: number of dataset, circle: circle\n",
    "    y_label = [0] * x #27520\n",
    "\n",
    "    for i in range(len(circle)):\n",
    "        for item in circle[i]:\n",
    "            y_label[int(item)] = i+1\n",
    "    return y_label\n",
    "\n",
    "# 預想是說一個 user 應該會對應到一個 circle\n",
    "# 但 0 特別多，代表有很多 user 沒有標到\n",
    "# 下面 aaaa 是在算 train_data 中所有的 user，train_data代表將所有.circles的檔案合成一個list\n",
    "# print(len(y_label)-Counter(y_label).most_common()[0][1])\n",
    "\n",
    "aaaa = []\n",
    "for i in circle_data:\n",
    "    aaaa+=i\n",
    "#print(len(Counter(aaaa)))\n",
    "\n",
    "del aaaa"
   ]
  },
  {
   "cell_type": "markdown",
   "id": "4d69a8fe",
   "metadata": {},
   "source": [
    "#### Include 每個 Node 對應的 features，並且把它包成 DataFrame，但後續還需要做處理...<br>"
   ]
  },
  {
   "cell_type": "code",
   "execution_count": null,
   "id": "35e721a0",
   "metadata": {},
   "outputs": [],
   "source": [
    "# Include each user's features \n",
    "    \n",
    "fea_dir = \"features\\\\features.txt\"\n",
    "features = []\n",
    "\n",
    "with open(fea_dir, 'r') as f:\n",
    "    features += f.readlines()\n",
    "\n",
    "a = [] \n",
    "\n",
    "for i in range(len(features)):\n",
    "    # split each user features by space\n",
    "    a.append(features[i].split()) \n",
    "\n",
    "final = []\n",
    "\n",
    "# make a dict that key is feature and value is corresponeding value\n",
    "for j in range(len(a)):\n",
    "    b_col = []\n",
    "    b_row = []\n",
    "    for i in range(len(a[j][1:])):\n",
    "        b_col.append(a[j][1:][i][::-1].split(';', 1)[1][::-1])\n",
    "        b_row.append(a[j][1:][i].split(';')[-1])\n",
    "\n",
    "    final.append(dict(zip(b_col, b_row)))\n",
    "    \n",
    "df = pd.DataFrame(final)\n",
    "print(f\"number of user:  {len(df)}\")\n",
    "#df # there are many NaN\n",
    "df_new = df.fillna(-1)\n",
    "\n",
    "del a\n",
    "\n",
    "df_new"
   ]
  },
  {
   "cell_type": "markdown",
   "id": "f3db6055",
   "metadata": {},
   "source": [
    "########朋友的feature(加上自己的feature)取眾數(忽略-1)"
   ]
  },
  {
   "cell_type": "code",
   "execution_count": null,
   "id": "2bd56371",
   "metadata": {},
   "outputs": [],
   "source": [
    "from scipy import stats\n",
    "\n",
    "df_new_friend = df_new.copy()\n",
    "\n",
    "for i in range(110):\n",
    "    pre = []\n",
    "    with open(os.path.join(os.getcwd()+\"\\egonets\", f\"{total_ego_user[i]}.egonet\"), 'r') as f:\n",
    "        pre = f.readlines()\n",
    "    sec = []\n",
    "    for pre_list in pre:\n",
    "        h1, hs = pre_list.split(':')\n",
    "        sec.append(int(h1))\n",
    "    for fe in df_new.columns:\n",
    "        L0 = []\n",
    "        if int(df_new.loc[total_ego_user[i]][fe]) >= 0:\n",
    "            L0.append(df_new.loc[total_ego_user[i]][fe])\n",
    "        for j in egonets[i]['circle']:\n",
    "            L1 = []\n",
    "            L1.append(df_new.loc[total_ego_user[i]][fe])\n",
    "            if int(df_new.loc[j][fe]) >= 0:\n",
    "                L0.append(df_new.loc[j][fe])\n",
    "                L1.append(df_new.loc[j][fe])\n",
    "            for k in pre[sec.index(j)].split(\":\")[1].split():\n",
    "                if int(df_new.loc[int(k)][fe]) >= 0:\n",
    "                    L1.append(df_new.loc[int(k)][fe])\n",
    "            if len(L1) > 0:\n",
    "                df_new_friend.loc[j][fe] = stats.mode(L1)[0][0]\n",
    "        if len(L0) > 0:\n",
    "            df_new_friend.loc[total_ego_user[i]][fe] = stats.mode(L0)[0][0]\n",
    "df_new_friend = df_new_friend.add_suffix(';friend')\n",
    "\n",
    "df_new_friend\n"
   ]
  },
  {
   "cell_type": "code",
   "execution_count": null,
   "id": "f3387a42",
   "metadata": {},
   "outputs": [],
   "source": [
    "#df_new_friend.to_csv('df_new_friend.csv')"
   ]
  },
  {
   "cell_type": "markdown",
   "id": "b7423ef5",
   "metadata": {},
   "source": [
    "###################與target user的feature相同則為1，否則為0"
   ]
  },
  {
   "cell_type": "code",
   "execution_count": null,
   "id": "2329c3aa",
   "metadata": {},
   "outputs": [],
   "source": [
    "df_new_target = df_new.copy()\n",
    "\n",
    "for i in range(110):\n",
    "    for fe in df_new.columns:\n",
    "        df_new_target.loc[total_ego_user[i]][fe] = 1\n",
    "        for j in egonets[i]['circle']:\n",
    "            if int(df_new.loc[total_ego_user[i]][fe]) == int(df_new.loc[j][fe]):\n",
    "                df_new_target.loc[j][fe] = 1\n",
    "            else:\n",
    "                df_new_target.loc[j][fe] = 0\n",
    "df_new_target = df_new_target.add_suffix(';target')\n",
    "\n",
    "df_new_target"
   ]
  },
  {
   "cell_type": "code",
   "execution_count": null,
   "id": "a22498fc",
   "metadata": {},
   "outputs": [],
   "source": [
    "#df_new_target.to_csv('df_new_target.csv')"
   ]
  },
  {
   "cell_type": "markdown",
   "id": "fc3e16ae",
   "metadata": {},
   "source": [
    "###############更新df_new"
   ]
  },
  {
   "cell_type": "code",
   "execution_count": null,
   "id": "4433dbf3",
   "metadata": {},
   "outputs": [],
   "source": [
    "df_new = pd.concat([df_new,df_new_friend],axis = 1)"
   ]
  },
  {
   "cell_type": "code",
   "execution_count": null,
   "id": "86bd5db5",
   "metadata": {},
   "outputs": [],
   "source": [
    "df_new = pd.concat([df_new,df_new_target],axis = 1)"
   ]
  },
  {
   "cell_type": "markdown",
   "id": "022d9210",
   "metadata": {},
   "source": [
    "###############"
   ]
  },
  {
   "cell_type": "code",
   "execution_count": null,
   "id": "b9318d46",
   "metadata": {},
   "outputs": [],
   "source": [
    "y_label = label_data(len(df), circle)"
   ]
  },
  {
   "cell_type": "code",
   "execution_count": null,
   "id": "4f25f2e4",
   "metadata": {},
   "outputs": [],
   "source": [
    "# 刪除資料集沒有circle的user\n",
    "abc = df_new.copy()\n",
    "\n",
    "# assign \"label\" as a feature in dataframe\n",
    "abc = abc.assign(label = y_label)\n",
    "\n",
    "# drop the rows if value in label is zero, and direct delete data\n",
    "abc.drop(abc[abc.label==0].index, inplace=True)"
   ]
  },
  {
   "cell_type": "code",
   "execution_count": null,
   "id": "7c00966d",
   "metadata": {},
   "outputs": [],
   "source": [
    "# Add new features (if user belong to a egonet,  will have the same featuers value)\n",
    "resss = []\n",
    "\n",
    "for i in range(len(abc.index)):\n",
    "    for j in range(len(total_ego_user)):\n",
    "        if abc.index[i] in egonets[j]['circle']:\n",
    "            resss.append(j)\n",
    "            break\n",
    "# 將做好的feature加入dataframe\n",
    "abc = abc.assign(egonet = resss)"
   ]
  },
  {
   "cell_type": "code",
   "execution_count": null,
   "id": "78ee1757",
   "metadata": {},
   "outputs": [],
   "source": [
    "titles = list(abc.columns)\n",
    "\n",
    "# label and egonet 顛倒了，把他倒過來\n",
    "titles[-1], titles[-2] = titles[-2] , titles[-1]\n",
    "\n",
    "abc = abc[titles]"
   ]
  },
  {
   "cell_type": "markdown",
   "id": "e53626a5",
   "metadata": {},
   "source": [
    "#### 準備好資料"
   ]
  },
  {
   "cell_type": "code",
   "execution_count": null,
   "id": "e777a235",
   "metadata": {},
   "outputs": [],
   "source": [
    "df = abc[abc.columns[:-1]].copy()\n",
    "label = abc['label'].copy()"
   ]
  },
  {
   "cell_type": "markdown",
   "id": "26c98623",
   "metadata": {},
   "source": [
    "#### 在這裡做feature selection，df是不包含 label的dataframe"
   ]
  },
  {
   "cell_type": "code",
   "execution_count": null,
   "id": "eaa7becd",
   "metadata": {},
   "outputs": [],
   "source": [
    "############可以對df做任何事\n",
    "\n",
    "df\n",
    "\n",
    "\n",
    "\n",
    "##############"
   ]
  },
  {
   "cell_type": "code",
   "execution_count": null,
   "id": "31b41962",
   "metadata": {},
   "outputs": [],
   "source": [
    "# 將 lable 重新插回去\n",
    "df = df.assign(label=abc['label'])"
   ]
  },
  {
   "cell_type": "code",
   "execution_count": null,
   "id": "25adcc2c",
   "metadata": {},
   "outputs": [],
   "source": [
    "def select_data(n): # select the dataframe based on its label frequency\n",
    "    top_n = Counter(df['label']).most_common()[:n]\n",
    "    top_n_label = [top_n[i][0] for i in range(len(top_n))]\n",
    "    \n",
    "    options = top_n_label\n",
    "    rslt_df = df[df['label'].isin(options)] # select features which is in top_n_label\n",
    "    return rslt_df"
   ]
  },
  {
   "cell_type": "code",
   "execution_count": null,
   "id": "eac9a204",
   "metadata": {},
   "outputs": [],
   "source": [
    "rslt_df15 = select_data(15)\n",
    "rslt_df30 = select_data(30)\n",
    "rslt_df50 = select_data(50) # choose user whose belonging circle is top 50 in all circle (total 455)\n",
    "rslt_df100 = select_data(100)\n",
    "rslt_df150 = select_data(150)"
   ]
  },
  {
   "cell_type": "markdown",
   "id": "8664dc4b",
   "metadata": {},
   "source": [
    "# 四、Model"
   ]
  },
  {
   "cell_type": "code",
   "execution_count": null,
   "id": "010ebaee",
   "metadata": {},
   "outputs": [],
   "source": [
    "# scoring = [''...]\n",
    "# https://scikit-learn.org/stable/modules/model_evaluation.html#scoring-parameter\n",
    "\n",
    "from sklearn.svm import SVC\n",
    "from sklearn.naive_bayes import GaussianNB\n",
    "from sklearn.tree import DecisionTreeClassifier\n",
    "from sklearn.model_selection import KFold, cross_val_score\n",
    "\n",
    "models = [DecisionTreeClassifier(),GaussianNB(),  SVC()]\n",
    "names = [\"Decision Tree\"] # SVM 太慢又不準，先刪除，Naive Bayes 一點都不準\n",
    "\n",
    "def model(df_new, y_label_new, n_splits = 10, shuffle=True):\n",
    "\n",
    "    X, y = np.array(df_new), np.array(y_label_new) \n",
    "    k_folds = KFold(n_splits = n_splits, shuffle=True, random_state=True)\n",
    "    \n",
    "    for model, name in zip(models, names):\n",
    "        print(name)\n",
    "        for score in [\"accuracy\", \"recall_micro\", \"precision_micro\"]:\n",
    "            print(score + \": \" , end =\"\")\n",
    "            \n",
    "            # 下面不太準，因為每個 score 又重新訓練一次，可能要優化一下，可是我懶得優化了\n",
    "            print(\"{:.2%}\".format((cross_val_score(model, X, y,scoring=score, cv=k_folds).mean())))\n",
    "        print()\n"
   ]
  },
  {
   "cell_type": "code",
   "execution_count": null,
   "id": "2aadf77e",
   "metadata": {
    "scrolled": true
   },
   "outputs": [],
   "source": [
    "model(rslt_df50[rslt_df50.columns[:-1]], rslt_df50['label'])"
   ]
  }
 ],
 "metadata": {
  "kernelspec": {
   "display_name": "data",
   "language": "python",
   "name": "data"
  },
  "language_info": {
   "codemirror_mode": {
    "name": "ipython",
    "version": 3
   },
   "file_extension": ".py",
   "mimetype": "text/x-python",
   "name": "python",
   "nbconvert_exporter": "python",
   "pygments_lexer": "ipython3",
   "version": "3.10.3"
  },
  "vscode": {
   "interpreter": {
    "hash": "8c2dc7f55a4afb133f9671f18548a683b80d7f864af89313bd9839ac682f147f"
   }
  }
 },
 "nbformat": 4,
 "nbformat_minor": 5
}
