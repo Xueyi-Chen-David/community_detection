{
 "cells": [
  {
   "cell_type": "code",
   "execution_count": 1,
   "id": "a8479038",
   "metadata": {},
   "outputs": [],
   "source": [
    "# https://pypi.org/project/torch-geometric/\n",
    "# pip install torch\n",
    "# pip install torch-scatter -f https://data.pyg.org/whl/torch-1.13.0+cpu.html\n",
    "# pip install torch-sparse -f https://data.pyg.org/whl/torch-1.13.0+cpu.html\n",
    "# pip install torch-geometric\n",
    "\n",
    "\n",
    "# https://towardsdatascience.com/louvains-algorithm-for-community-detection-in-python-95ff7f675306\n",
    "import torch\n",
    "from torch import Tensor\n",
    "from torch_geometric.nn import GCNConv\n",
    "from torch_geometric.datasets import Planetoid\n",
    "import pandas as pd\n",
    "import numpy as np\n",
    "import matplotlib.pyplot as plt\n",
    "import networkx as nx\n",
    "from collections import Counter "
   ]
  },
  {
   "cell_type": "code",
   "execution_count": 314,
   "id": "b3650c18",
   "metadata": {},
   "outputs": [],
   "source": [
    "import os\n",
    "import re\n",
    "\n",
    "def getfile(directory): # get sorted file\n",
    "    # Include Training dataset\n",
    "    target_dir = os.getcwd()+directory #\"\\Training\"\n",
    "\n",
    "    files = []\n",
    "    for filename in os.listdir(target_dir):\n",
    "        files.append(filename)\n",
    "\n",
    "    # file sorted by its name\n",
    "    files.sort(key=lambda f: int(re.sub('\\D', '', f)))\n",
    "    return files"
   ]
  },
  {
   "cell_type": "code",
   "execution_count": 169,
   "id": "81fdbdb2",
   "metadata": {},
   "outputs": [],
   "source": [
    "data = []\n",
    "for filename in files:\n",
    "    temp = []\n",
    "    with open(os.path.join(target_dir, filename), 'r') as f:\n",
    "            temp += f.readlines()\n",
    "    data.append(temp)\n",
    "\n",
    "del temp\n",
    "\n",
    "train = []\n",
    "\n",
    "\n",
    "for i in range(len(data)):\n",
    "    temp = []\n",
    "    for item in data[i]:\n",
    "        temp.append(item.split()[1:])\n",
    "    train.append(temp)"
   ]
  },
  {
   "cell_type": "code",
   "execution_count": 170,
   "id": "fc69e4aa",
   "metadata": {},
   "outputs": [],
   "source": [
    "final = []\n",
    "\n",
    "for j in range(len(train)):\n",
    "    a = ''\n",
    "    for i in range(len(train[j])):\n",
    "        a += ' '.join(train[j][i]) +';'\n",
    "    a = a[:-1]\n",
    "    index = re.sub('\\D', '', files[j])\n",
    "\n",
    "    dic = {'UserId':index, 'Predicted': a}\n",
    "    \n",
    "    final.append(dic)"
   ]
  },
  {
   "cell_type": "code",
   "execution_count": 171,
   "id": "60cec629",
   "metadata": {},
   "outputs": [],
   "source": [
    "df = pd.DataFrame(data=final)"
   ]
  },
  {
   "cell_type": "code",
   "execution_count": 172,
   "id": "2e6b3b4d",
   "metadata": {},
   "outputs": [],
   "source": [
    "df.to_csv('train.csv', index=False)"
   ]
  },
  {
   "cell_type": "code",
   "execution_count": 173,
   "id": "c9be316b",
   "metadata": {},
   "outputs": [
    {
     "data": {
      "text/plain": [
       "{'UserId': '239',\n",
       " 'Predicted': '306 281 311 247 342 315 297 303 304 343 333 296 250 255 331 248 340 265 322 289 344 287 326 249 324 307 290;335 253 325 320 283 258 284 318 330 241 276 312 340 301 334 291 295 242 337 338 273 277 293 251 279 285 267 243 240 298 302 286 305 282 294 256 313 263 274 339 309 336 310 264 266 269;280 308 254 246 270 314 299 329 261 271 327 259 317;300 252 332 328 268 272 323 288 257 292 245 319 275 341 282 321 339 244 316'}"
      ]
     },
     "execution_count": 173,
     "metadata": {},
     "output_type": "execute_result"
    }
   ],
   "source": [
    "final[0]"
   ]
  },
  {
   "cell_type": "code",
   "execution_count": 181,
   "id": "f51cb784",
   "metadata": {},
   "outputs": [],
   "source": [
    "target_dir = os.getcwd()+\"\\egonets\"\n",
    "\n",
    "files = []\n",
    "for filename in os.listdir(target_dir):\n",
    "    files.append(filename)\n",
    "    \n",
    "# file sorted by its name\n",
    "files.sort(key=lambda f: int(re.sub('\\D', '', f)))"
   ]
  },
  {
   "cell_type": "code",
   "execution_count": 182,
   "id": "cbfafa7c",
   "metadata": {},
   "outputs": [],
   "source": [
    "data = []\n",
    "for filename in files:\n",
    "    temp = []\n",
    "    with open(os.path.join(target_dir, filename), 'r') as f:\n",
    "            temp += f.readlines()\n",
    "    data.append(temp)\n",
    "    \n"
   ]
  },
  {
   "cell_type": "code",
   "execution_count": 194,
   "id": "5194520f",
   "metadata": {},
   "outputs": [
    {
     "data": {
      "text/plain": [
       "['240', '283', '241', '334', '285', '309', '310']"
      ]
     },
     "execution_count": 194,
     "metadata": {},
     "output_type": "execute_result"
    }
   ],
   "source": [
    "data[1][0].replace(\":\", '').split()"
   ]
  },
  {
   "cell_type": "code",
   "execution_count": 195,
   "id": "9ecf7bc5",
   "metadata": {},
   "outputs": [
    {
     "data": {
      "text/plain": [
       "'239.egonet'"
      ]
     },
     "execution_count": 195,
     "metadata": {},
     "output_type": "execute_result"
    }
   ],
   "source": [
    "files[1]"
   ]
  },
  {
   "cell_type": "code",
   "execution_count": 197,
   "id": "edc089f0",
   "metadata": {},
   "outputs": [
    {
     "data": {
      "text/plain": [
       "['240', '283', '241', '334', '285', '309', '310']"
      ]
     },
     "execution_count": 197,
     "metadata": {},
     "output_type": "execute_result"
    }
   ],
   "source": [
    "data[1][0].replace(\":\", '').split()"
   ]
  },
  {
   "cell_type": "code",
   "execution_count": 235,
   "id": "182788d4",
   "metadata": {},
   "outputs": [],
   "source": [
    "fin = []\n",
    "\n",
    "for j in range(len(data)):\n",
    "    temp = []\n",
    "\n",
    "    for i in range(len(data[j])):\n",
    "        a = data[j][i].replace(\":\", '').split()\n",
    "        temp.append([int(a[i]) for i in range(len(a))])\n",
    "        \n",
    "    fin.append(temp)"
   ]
  },
  {
   "cell_type": "code",
   "execution_count": 243,
   "id": "1bf69f43",
   "metadata": {},
   "outputs": [],
   "source": [
    "dic_fin = []\n",
    "\n",
    "for i in range(len(files)):\n",
    "    dic_fin.append({\"ego\": re.sub('\\D', '', files[i]), \"user_friend\": fin[i]})"
   ]
  },
  {
   "cell_type": "code",
   "execution_count": 277,
   "id": "64d9ba50",
   "metadata": {},
   "outputs": [],
   "source": [
    "b = []\n",
    "\n",
    "for i in range(len(dic_fin[1]['user_friend'])):\n",
    "    b += dic_fin[1]['user_friend'][i]"
   ]
  },
  {
   "cell_type": "code",
   "execution_count": 286,
   "id": "e92ce3f1",
   "metadata": {},
   "outputs": [],
   "source": [
    "c = [i for i in range(240, 345, 1)]"
   ]
  },
  {
   "cell_type": "code",
   "execution_count": 294,
   "id": "07e06793",
   "metadata": {
    "collapsed": true
   },
   "outputs": [
    {
     "name": "stdout",
     "output_type": "stream",
     "text": [
      "oops\n",
      "oops\n",
      "oops\n",
      "oops\n",
      "oops\n",
      "oops\n",
      "oops\n",
      "oops\n",
      "oops\n",
      "oops\n",
      "oops\n",
      "oops\n",
      "oops\n",
      "oops\n",
      "oops\n",
      "oops\n",
      "oops\n",
      "oops\n",
      "oops\n",
      "oops\n",
      "oops\n",
      "oops\n",
      "oops\n",
      "oops\n",
      "oops\n",
      "oops\n",
      "oops\n",
      "oops\n",
      "oops\n",
      "oops\n",
      "oops\n",
      "oops\n",
      "oops\n",
      "oops\n",
      "oops\n",
      "oops\n",
      "oops\n",
      "oops\n",
      "oops\n",
      "oops\n",
      "oops\n",
      "oops\n",
      "oops\n",
      "oops\n",
      "oops\n",
      "oops\n",
      "oops\n",
      "oops\n",
      "oops\n",
      "oops\n",
      "oops\n",
      "oops\n",
      "oops\n",
      "oops\n",
      "oops\n",
      "oops\n",
      "oops\n",
      "oops\n",
      "oops\n",
      "oops\n",
      "oops\n",
      "oops\n",
      "oops\n",
      "oops\n",
      "oops\n",
      "oops\n",
      "oops\n",
      "oops\n",
      "oops\n",
      "oops\n",
      "oops\n",
      "oops\n",
      "oops\n",
      "oops\n",
      "oops\n",
      "oops\n",
      "oops\n",
      "oops\n",
      "oops\n",
      "oops\n"
     ]
    }
   ],
   "source": [
    "for i in range(len(c)):\n",
    "    if str(c[i]) != sorted(final[0]['Predicted'].replace(';', ' ').split())[i]:\n",
    "        print(\"oops\")"
   ]
  },
  {
   "cell_type": "code",
   "execution_count": null,
   "id": "6f75a743",
   "metadata": {},
   "outputs": [],
   "source": []
  }
 ],
 "metadata": {
  "kernelspec": {
   "display_name": "data",
   "language": "python",
   "name": "data"
  },
  "language_info": {
   "codemirror_mode": {
    "name": "ipython",
    "version": 3
   },
   "file_extension": ".py",
   "mimetype": "text/x-python",
   "name": "python",
   "nbconvert_exporter": "python",
   "pygments_lexer": "ipython3",
   "version": "3.10.3"
  }
 },
 "nbformat": 4,
 "nbformat_minor": 5
}
