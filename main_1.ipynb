{
 "cells": [
  {
   "cell_type": "code",
   "execution_count": 111,
   "id": "eabe3191",
   "metadata": {},
   "outputs": [],
   "source": [
    "# https://pypi.org/project/torch-geometric/\n",
    "# pip install torch\n",
    "# pip install torch-scatter -f https://data.pyg.org/whl/torch-1.13.0+cpu.html\n",
    "# pip install torch-sparse -f https://data.pyg.org/whl/torch-1.13.0+cpu.html\n",
    "# pip install torch-geometric\n",
    "\n",
    "\n",
    "# https://towardsdatascience.com/louvains-algorithm-for-community-detection-in-python-95ff7f675306\n",
    "import torch\n",
    "from torch import Tensor\n",
    "from torch_geometric.nn import GCNConv\n",
    "from torch_geometric.datasets import Planetoid\n",
    "import pandas as pd\n",
    "import numpy as np\n",
    "import matplotlib.pyplot as plt\n",
    "import networkx as nx\n",
    "from collections import Counter "
   ]
  },
  {
   "cell_type": "code",
   "execution_count": 2,
   "id": "d918ba53",
   "metadata": {},
   "outputs": [],
   "source": [
    "# plot the data\n",
    "from utils.visual import plot\n",
    "\n",
    "#plot(0) "
   ]
  },
  {
   "cell_type": "code",
   "execution_count": 3,
   "id": "67222590",
   "metadata": {},
   "outputs": [],
   "source": [
    "import re\n",
    "\n",
    "def find_train_ego_index():\n",
    "    pre, pree = [], []\n",
    "    for item in train.files:\n",
    "        pre.append(int(re.sub('\\D', '',item )))\n",
    "\n",
    "    for i in egonet.files:\n",
    "        pree.append(int(re.sub('\\D', '',i )))\n",
    "        \n",
    "    train_ego_index = []\n",
    "    for i in range(len(pree)):\n",
    "        if pree[i] in pre:\n",
    "            train_ego_index.append(i)\n",
    "    return train_ego_index, pree, pre"
   ]
  },
  {
   "cell_type": "code",
   "execution_count": 4,
   "id": "06a749da",
   "metadata": {},
   "outputs": [],
   "source": [
    "# self-made packages\n",
    "from utils.data import data_preprocess\n",
    "\n",
    "\n",
    "train = data_preprocess(\"\\Training\")\n",
    "train_list, train_dict = train.train_data()\n",
    "df = pd.DataFrame(data=train_dict)"
   ]
  },
  {
   "cell_type": "code",
   "execution_count": 5,
   "id": "c3f6b809",
   "metadata": {},
   "outputs": [],
   "source": [
    "egonet = data_preprocess(\"\\egonets\")\n",
    "ego_list, user_list = egonet.ego_data()"
   ]
  },
  {
   "cell_type": "code",
   "execution_count": 6,
   "id": "04dcfd7e",
   "metadata": {},
   "outputs": [],
   "source": [
    "# 這個是指應該將哪些 ego_list 用在 training，方便輸入0,1,2，就不用輸入 239、345、661...\n",
    "train_ego_index,ego_user, train_user  = find_train_ego_index()"
   ]
  },
  {
   "cell_type": "markdown",
   "id": "b9368245",
   "metadata": {},
   "source": [
    "## Data Preparation"
   ]
  },
  {
   "cell_type": "code",
   "execution_count": 7,
   "id": "527e3e83",
   "metadata": {},
   "outputs": [],
   "source": [
    "from utils.user import users\n",
    "\n",
    "users = users()\n",
    "index = user_list[train_ego_index[2]] # 更改數字可以挑選要哪一個 training data \n",
    "\n",
    "# edge information EX: (240, 241), (240, 242)...\n",
    "edge1 = egonet.edge_data(train_ego_index[0])"
   ]
  },
  {
   "cell_type": "code",
   "execution_count": 8,
   "id": "b9fcca67",
   "metadata": {},
   "outputs": [],
   "source": [
    "#users = pd.read_csv('df_new_friend.csv') #把註解拿掉代表讀取新的feature"
   ]
  },
  {
   "cell_type": "markdown",
   "id": "cfb01a0a",
   "metadata": {},
   "source": [
    "## Predict Data"
   ]
  },
  {
   "cell_type": "code",
   "execution_count": 9,
   "id": "39e416bb",
   "metadata": {},
   "outputs": [],
   "source": [
    "circlesP = {}\n",
    "\n",
    "# 這裡是整理所有的 predict data，但因為目前沒有所以暫時用 training 的代替\n",
    "for i in range(len(train_dict)):\n",
    "    uidP,friendsP = train_dict[i]['UserId'], train_dict[i]['Predicted'] # predict \n",
    "    circlesP[int(uidP)] = [set([int(x) for x in c.split()]) for c in friendsP.split(';')]"
   ]
  },
  {
   "cell_type": "markdown",
   "id": "27860602",
   "metadata": {},
   "source": [
    "## Connected Component\n",
    "#### 測試connected component"
   ]
  },
  {
   "cell_type": "code",
   "execution_count": 10,
   "id": "54e69a91",
   "metadata": {},
   "outputs": [],
   "source": [
    "from connected_components import findCommunities\n",
    "import sys, os\n",
    "\n",
    "def connected_componet(target_dir):\n",
    "    egoUser = -1\n",
    "    try:\n",
    "        egoUser = int(re.sub(\"\\D\", '', target_dir))\n",
    "    except Exception as e:\n",
    "        print(\"Expected files to be names 'X.egonet' where X is a user ID\")\n",
    "\n",
    "    cs = list(findCommunities(target_dir))\n",
    "\n",
    "    if len(cs) == 0:\n",
    "        cs = [set(adj.keys())]\n",
    "    cs = [' '.join([str(y) for y in x]) for x in cs]\n",
    "    res = str(egoUser) + ',' + ';'.join(cs)\n",
    "    \n",
    "    return res\n",
    "    "
   ]
  },
  {
   "cell_type": "code",
   "execution_count": 11,
   "id": "bf1ce2f7",
   "metadata": {},
   "outputs": [],
   "source": [
    "def process(test_ego_num):\n",
    "    return [{\n",
    "            'UserId': test_ego_num.split(',')[0],\n",
    "            'Predicted': test_ego_num.split(',')[1]\n",
    "            }]\n"
   ]
  },
  {
   "cell_type": "code",
   "execution_count": 12,
   "id": "8b99065c",
   "metadata": {},
   "outputs": [],
   "source": [
    "connect_egonet = []\n",
    "for i in range(len(train.files)):\n",
    "    target_dir = os.getcwd()+\"\\\\egonets\\\\\"+train.files[i].replace('circles', 'egonet')\n",
    "    test_ego_num = connected_componet(target_dir)\n",
    "    test = process(test_ego_num)\n",
    "    connect_egonet+=(test)"
   ]
  },
  {
   "cell_type": "markdown",
   "id": "2fe9aaa6",
   "metadata": {},
   "source": [
    "# Caculate Loss\n",
    "### 之後可能要放進一個mode裡面當作 objective function 之類的，這邊先暫時表達一次性的評分"
   ]
  },
  {
   "cell_type": "markdown",
   "id": "8ad4b88e",
   "metadata": {},
   "source": [
    "## Model"
   ]
  },
  {
   "cell_type": "code",
   "execution_count": 13,
   "id": "23bb8af1",
   "metadata": {},
   "outputs": [],
   "source": [
    "from sklearn.cluster import KMeans\n",
    "\n",
    "def exe(n_clusters):\n",
    "    km = KMeans(\n",
    "        n_clusters=n_clusters, init='random',\n",
    "        n_init=10, max_iter=300, \n",
    "        tol=1e-04, random_state=2\n",
    "    )\n",
    "    final, indexx = [], []\n",
    "    for i in range(len(train_ego_index)):\n",
    "        index = user_list[train_ego_index[i]] # 更改數字可以挑選要哪一個 training data \n",
    "        test = users.iloc[index]\n",
    "\n",
    "        X = np.array(test).astype(np.int64)\n",
    "        return X\n",
    "        y_km = km.fit(X)\n",
    "        predict = y_km.predict(X)\n",
    "        final.append(predict)\n",
    "        indexx.append(index)\n",
    "    return final, indexx"
   ]
  },
  {
   "cell_type": "code",
   "execution_count": 14,
   "id": "d5fcef2c",
   "metadata": {},
   "outputs": [],
   "source": [
    "from socialCircles_metric import loss1\n",
    "\n",
    "def temperal(train_dict):\n",
    "        \n",
    "    circlesG = {}\n",
    "\n",
    "    for i in range(len(train_dict)):\n",
    "        uidG,friendsG = train_dict[i]['UserId'], train_dict[i]['Predicted'] # ground truth\n",
    "        circlesG[int(uidG)] = [set([int(x) for x in c.split()]) for c in friendsG.split(';')] \n",
    "        \n",
    "        \n",
    "    totalLoss = 0\n",
    "    for k in circlesP.keys():\n",
    "        try:\n",
    "            if k not in circlesG:\n",
    "                print(\"Ground-truth has prediction for circle\", k, \"but prediction does not\")\n",
    "                break\n",
    "\n",
    "            l = loss1(circlesG[k], circlesP[k])\n",
    "            #print(\"loss for user\", k, \"=\", l)\n",
    "            totalLoss += l\n",
    "        except:\n",
    "            continue\n",
    "            \n",
    "    print(\"total loss for all users =\", totalLoss)"
   ]
  },
  {
   "cell_type": "code",
   "execution_count": 15,
   "id": "97b7b5d4",
   "metadata": {},
   "outputs": [],
   "source": [
    "def data(n_clusters):\n",
    "\n",
    "    final, index = exe(n_clusters)\n",
    "    \n",
    "    resss = []\n",
    "    for k in range(len(final)):\n",
    "        fina = \"\"\n",
    "        for i in range(n_clusters):\n",
    "            tem = ''\n",
    "\n",
    "            for j in range(len(final[k])):\n",
    "                if final[k][j] == i:\n",
    "                    tem+= ' ' + str(index[k][j])\n",
    "            fina += tem.strip() + ';'\n",
    "        resss.append(fina)\n",
    "        \n",
    "    transform_label = []\n",
    "    \n",
    "    for i in range(len(index)):\n",
    "        transform_label.append({\"UserId\":index[i][0]-1, \"Predicted\":resss[i].strip()[:-1]})\n",
    "        \n",
    "    return transform_label"
   ]
  },
  {
   "cell_type": "code",
   "execution_count": 16,
   "id": "6d8caee8",
   "metadata": {},
   "outputs": [
    {
     "name": "stdout",
     "output_type": "stream",
     "text": [
      "total loss for all users = 17606\n"
     ]
    }
   ],
   "source": [
    "temperal(connect_egonet)"
   ]
  },
  {
   "cell_type": "code",
   "execution_count": 17,
   "id": "1df188fc",
   "metadata": {},
   "outputs": [
    {
     "name": "stdout",
     "output_type": "stream",
     "text": [
      "total loss for all users = 0\n"
     ]
    }
   ],
   "source": [
    "temperal(train_dict)"
   ]
  },
  {
   "cell_type": "code",
   "execution_count": 18,
   "id": "540f0f92",
   "metadata": {},
   "outputs": [],
   "source": [
    "from collections import Counter\n",
    "\n",
    "def count_similarity(a, b):\n",
    "    count = 0\n",
    "    for i in range(len(a)):\n",
    "        if (a[i] != -1) and (a[i] == b[i]):\n",
    "            count+=1\n",
    "            \n",
    "    return count #, (len(a) - Counter(a)[-1]) # 分母為去除掉 -1 的個數"
   ]
  },
  {
   "cell_type": "code",
   "execution_count": 22,
   "id": "709d12dd",
   "metadata": {},
   "outputs": [],
   "source": [
    "from socialCircles_metric import loss1\n",
    "\n",
    "def another_temperal(circlesG):\n",
    "        \n",
    "    totalLoss = 0\n",
    "    for k in circlesP.keys():\n",
    "        try:\n",
    "            if k not in circlesG:\n",
    "                #print(\"Ground-truth has prediction for circle\", k, \"but prediction does not\")\n",
    "                #break\n",
    "                pass\n",
    "\n",
    "            l = loss1(circlesG[k], circlesP[k])\n",
    "            print(\"loss for user\", k, \"=\", l)\n",
    "            totalLoss += l\n",
    "        except:\n",
    "            continue\n",
    "            \n",
    "    print(\"total loss for all users =\", totalLoss)"
   ]
  },
  {
   "cell_type": "code",
   "execution_count": 109,
   "id": "365c23b8",
   "metadata": {},
   "outputs": [
    {
     "name": "stderr",
     "output_type": "stream",
     "text": [
      "100%|██████████████████████████████████████████████████████████████████████████████████| 56/56 [00:40<00:00,  1.40it/s]\n"
     ]
    }
   ],
   "source": [
    "from tqdm import tqdm, trange\n",
    "import community\n",
    "from utils.visual import plot, draw, colors\n",
    "import networkx as nx\n",
    "import networkx.algorithms.community as nx_comm\n",
    "\n",
    "t = {}\n",
    "r = []\n",
    "\n",
    "for i in trange(len(train_ego_index)):\n",
    "    index = train_ego_index[i]\n",
    "    first_user = user_list[index][0]\n",
    "    test = users.iloc[user_list[index]]\n",
    "    \n",
    "    res = []\n",
    "    for j in range(len(user_list[index])):\n",
    "        user, friend = ego_list[index][j][0], ego_list[index][j][1:]\n",
    "        temp1 = []\n",
    "        for i in range(len(friend)):\n",
    "            temp1.append(count_similarity(test.iloc[user-first_user], test.iloc[friend[i] - first_user]))\n",
    "\n",
    "        res.append(temp1)\n",
    "        \n",
    "    G = draw(os.path.join(egonet.target_dir, egonet.files[index]))\n",
    "\n",
    "    for l in range(len(ego_list[index])):\n",
    "        lis = ego_list[index][l]\n",
    "        source = lis[0]\n",
    "        for i in range(len(lis[1:])):\n",
    "            dest = lis[1:][i]\n",
    "            G[source][dest]['weight'] = res[l][i]\n",
    "\n",
    "    aaa = nx_comm.louvain_communities(G,threshold=0.0001 , seed=2)\n",
    "    \n",
    "    t[first_user-1] = aaa\n",
    "    r.append(res)\n",
    "    "
   ]
  },
  {
   "cell_type": "code",
   "execution_count": 110,
   "id": "2f91acf6",
   "metadata": {},
   "outputs": [
    {
     "name": "stdout",
     "output_type": "stream",
     "text": [
      "loss for user 239 = 110\n",
      "loss for user 345 = 210\n",
      "loss for user 611 = 257\n",
      "loss for user 1357 = 474\n",
      "loss for user 1839 = 119\n",
      "loss for user 1968 = 300\n",
      "loss for user 2255 = 117\n",
      "loss for user 2365 = 83\n",
      "loss for user 2738 = 32\n",
      "loss for user 2790 = 133\n",
      "loss for user 2895 = 59\n",
      "loss for user 3735 = 714\n",
      "loss for user 4406 = 838\n",
      "loss for user 4829 = 218\n",
      "loss for user 5494 = 299\n",
      "loss for user 5881 = 465\n",
      "loss for user 6413 = 267\n",
      "loss for user 6726 = 248\n",
      "loss for user 7667 = 257\n",
      "loss for user 8100 = 108\n",
      "loss for user 8239 = 54\n",
      "loss for user 8553 = 149\n",
      "loss for user 8777 = 263\n",
      "loss for user 9103 = 97\n",
      "loss for user 9642 = 326\n",
      "loss for user 9846 = 149\n",
      "loss for user 9947 = 413\n",
      "loss for user 10395 = 339\n",
      "loss for user 10929 = 55\n",
      "loss for user 11014 = 158\n",
      "loss for user 11364 = 38\n",
      "loss for user 11410 = 205\n",
      "loss for user 12800 = 486\n",
      "loss for user 13353 = 105\n",
      "loss for user 15672 = 789\n",
      "loss for user 16203 = 71\n",
      "loss for user 16378 = 225\n",
      "loss for user 16642 = 325\n",
      "loss for user 16869 = 69\n",
      "loss for user 17951 = 33\n",
      "loss for user 18005 = 490\n",
      "loss for user 18543 = 26\n",
      "loss for user 19129 = 182\n",
      "loss for user 19788 = 225\n",
      "loss for user 22650 = 109\n",
      "loss for user 22824 = 241\n",
      "loss for user 23157 = 272\n",
      "loss for user 23299 = 372\n",
      "loss for user 24758 = 30\n",
      "loss for user 24857 = 145\n",
      "loss for user 25159 = 178\n",
      "loss for user 25568 = 169\n",
      "loss for user 25773 = 275\n",
      "loss for user 26321 = 140\n",
      "loss for user 26492 = 405\n",
      "loss for user 27022 = 316\n",
      "total loss for all users = 13232\n"
     ]
    }
   ],
   "source": [
    "another_temperal(t)"
   ]
  },
  {
   "cell_type": "code",
   "execution_count": 34,
   "id": "2a9868d0",
   "metadata": {},
   "outputs": [],
   "source": [
    "import community\n",
    "from utils.visual import plot, draw, colors\n",
    "import networkx as nx\n",
    "import networkx.algorithms.community as nx_comm\n",
    "\n",
    "# Create a graph using NetworkX\n",
    "def do():\n",
    "    aa=[]\n",
    "    bb={}\n",
    "    \n",
    "    for i in range(len(train_ego_index)):\n",
    "        index = train_ego_index[i]\n",
    "        first_user = user_list[index][0]\n",
    "        temp_path = os.path.join(egonet.target_dir, egonet.files[index]) #51\n",
    "        G = draw(temp_path)\n",
    "#         if index == 51:\n",
    "#             return G\n",
    "        \n",
    "        bb[first_user-1] = nx_comm.louvain_communities(G,threshold=0.1 , seed=123)\n",
    "\n",
    "#         partition = community.best_partition(G)\n",
    "#         res = sorted(partition.items(), key=lambda item: item[1])\n",
    "#         aa+=process_res(res, index)\n",
    "    \n",
    "    return bb #aa"
   ]
  },
  {
   "cell_type": "code",
   "execution_count": 35,
   "id": "0f8f3252",
   "metadata": {},
   "outputs": [],
   "source": [
    "def process_res(res, first_user):\n",
    "    temp = ''\n",
    "    index = 0\n",
    "    a = ''\n",
    "    for i in range(len(res)):\n",
    "        if index != res[i][1]:\n",
    "            index = res[i][1]\n",
    "            temp += a.strip() + ';'\n",
    "            a = ''\n",
    "        a += ' '+str(res[i][0])\n",
    "    temp += a.strip()\n",
    "        \n",
    "    return [{'UserId':first_user-1, 'Predicted':temp}]"
   ]
  },
  {
   "cell_type": "code",
   "execution_count": 36,
   "id": "035844b3",
   "metadata": {},
   "outputs": [],
   "source": [
    "aaa = do()"
   ]
  },
  {
   "cell_type": "code",
   "execution_count": 37,
   "id": "50afb84f",
   "metadata": {},
   "outputs": [
    {
     "name": "stdout",
     "output_type": "stream",
     "text": [
      "loss for user 239 = 120\n",
      "loss for user 345 = 224\n",
      "loss for user 611 = 265\n",
      "loss for user 1357 = 470\n",
      "loss for user 1839 = 121\n",
      "loss for user 1968 = 326\n",
      "loss for user 2255 = 117\n",
      "loss for user 2365 = 83\n",
      "loss for user 2738 = 36\n",
      "loss for user 2790 = 117\n",
      "loss for user 2895 = 63\n",
      "loss for user 3735 = 766\n",
      "loss for user 4406 = 834\n",
      "loss for user 4829 = 242\n",
      "loss for user 5494 = 293\n",
      "loss for user 5881 = 473\n",
      "loss for user 6413 = 259\n",
      "loss for user 6726 = 200\n",
      "loss for user 7667 = 239\n",
      "loss for user 8100 = 78\n",
      "loss for user 8239 = 66\n",
      "loss for user 8553 = 157\n",
      "loss for user 8777 = 245\n",
      "loss for user 9103 = 103\n",
      "loss for user 9642 = 324\n",
      "loss for user 9846 = 141\n",
      "loss for user 9947 = 393\n",
      "loss for user 10395 = 353\n",
      "loss for user 10929 = 59\n",
      "loss for user 11014 = 168\n",
      "loss for user 11364 = 34\n",
      "loss for user 11410 = 205\n",
      "loss for user 12800 = 489\n",
      "loss for user 13353 = 92\n",
      "loss for user 15672 = 805\n",
      "loss for user 16203 = 63\n",
      "loss for user 16378 = 221\n",
      "loss for user 16642 = 320\n",
      "loss for user 16869 = 65\n",
      "loss for user 17951 = 33\n",
      "loss for user 18005 = 494\n",
      "loss for user 18543 = 26\n",
      "loss for user 19129 = 178\n",
      "loss for user 19788 = 229\n",
      "loss for user 22650 = 96\n",
      "loss for user 22824 = 241\n",
      "loss for user 23157 = 270\n",
      "loss for user 23299 = 356\n",
      "loss for user 24758 = 30\n",
      "loss for user 24857 = 133\n",
      "loss for user 25159 = 186\n",
      "loss for user 25568 = 173\n",
      "loss for user 25773 = 249\n",
      "loss for user 26321 = 130\n",
      "loss for user 26492 = 319\n",
      "loss for user 27022 = 322\n",
      "total loss for all users = 13094\n"
     ]
    }
   ],
   "source": [
    "another_temperal(aaa)"
   ]
  },
  {
   "cell_type": "code",
   "execution_count": null,
   "id": "e25a55f3",
   "metadata": {},
   "outputs": [],
   "source": []
  },
  {
   "cell_type": "code",
   "execution_count": null,
   "id": "02077218",
   "metadata": {},
   "outputs": [],
   "source": []
  }
 ],
 "metadata": {
  "kernelspec": {
   "display_name": "data",
   "language": "python",
   "name": "data"
  },
  "language_info": {
   "codemirror_mode": {
    "name": "ipython",
    "version": 3
   },
   "file_extension": ".py",
   "mimetype": "text/x-python",
   "name": "python",
   "nbconvert_exporter": "python",
   "pygments_lexer": "ipython3",
   "version": "3.10.3"
  }
 },
 "nbformat": 4,
 "nbformat_minor": 5
}
