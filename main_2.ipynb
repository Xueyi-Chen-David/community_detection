{
 "cells": [
  {
   "cell_type": "code",
   "execution_count": 1,
   "id": "eabe3191",
   "metadata": {},
   "outputs": [],
   "source": [
    "# https://pypi.org/project/torch-geometric/\n",
    "# pip install torch\n",
    "# pip install torch-scatter -f https://data.pyg.org/whl/torch-1.13.0+cpu.html\n",
    "# pip install torch-sparse -f https://data.pyg.org/whl/torch-1.13.0+cpu.html\n",
    "# pip install torch-geometric\n",
    "\n",
    "\n",
    "# https://towardsdatascience.com/louvains-algorithm-for-community-detection-in-python-95ff7f675306\n",
    "import torch\n",
    "from torch import Tensor\n",
    "from torch_geometric.nn import GCNConv\n",
    "from torch_geometric.datasets import Planetoid\n",
    "import pandas as pd\n",
    "import numpy as np\n",
    "import matplotlib.pyplot as plt\n",
    "import networkx as nx\n",
    "from collections import Counter "
   ]
  },
  {
   "cell_type": "code",
   "execution_count": 2,
   "id": "d918ba53",
   "metadata": {},
   "outputs": [],
   "source": [
    "# plot the data\n",
    "from utils.visual import plot\n",
    "\n",
    "# plot(0) "
   ]
  },
  {
   "cell_type": "code",
   "execution_count": 3,
   "id": "67222590",
   "metadata": {},
   "outputs": [],
   "source": [
    "import re\n",
    "\n",
    "def find_train_ego_index():\n",
    "    pre, pree = [], []\n",
    "    for item in train.files:\n",
    "        pre.append(int(re.sub('\\D', '',item )))\n",
    "\n",
    "    for i in egonet.files:\n",
    "        pree.append(int(re.sub('\\D', '',i )))\n",
    "        \n",
    "    train_ego_index = []\n",
    "    for i in range(len(pree)):\n",
    "        if pree[i] in pre:\n",
    "            train_ego_index.append(i)\n",
    "    return train_ego_index, pree, pre"
   ]
  },
  {
   "cell_type": "code",
   "execution_count": 4,
   "id": "06a749da",
   "metadata": {},
   "outputs": [],
   "source": [
    "# self-made packages\n",
    "from utils.data import data_preprocess\n",
    "\n",
    "\n",
    "train = data_preprocess(\"\\Training\")\n",
    "train_list, train_dict = train.train_data()\n",
    "df = pd.DataFrame(data=train_dict)"
   ]
  },
  {
   "cell_type": "code",
   "execution_count": 5,
   "id": "c3f6b809",
   "metadata": {},
   "outputs": [],
   "source": [
    "egonet = data_preprocess(\"\\egonets\")\n",
    "ego_list, user_list = egonet.ego_data()"
   ]
  },
  {
   "cell_type": "code",
   "execution_count": 6,
   "id": "04dcfd7e",
   "metadata": {},
   "outputs": [],
   "source": [
    "# 這個是指應該將哪些 ego_list 用在 training，方便輸入0,1,2，就不用輸入 239、345、661...\n",
    "train_ego_index,ego_user, train_user  = find_train_ego_index()"
   ]
  },
  {
   "cell_type": "markdown",
   "id": "b9368245",
   "metadata": {},
   "source": [
    "## Data Preparation"
   ]
  },
  {
   "cell_type": "code",
   "execution_count": 7,
   "id": "527e3e83",
   "metadata": {},
   "outputs": [],
   "source": [
    "from utils.user import users\n",
    "\n",
    "users = users()\n",
    "index = user_list[train_ego_index[2]] # 更改數字可以挑選要哪一個 training data \n",
    "\n",
    "# edge information EX: (240, 241), (240, 242)...\n",
    "edge1 = egonet.edge_data(train_ego_index[0])"
   ]
  },
  {
   "cell_type": "code",
   "execution_count": 8,
   "id": "b9fcca67",
   "metadata": {},
   "outputs": [],
   "source": [
    "# users = pd.read_csv('df_new_friend.csv') #把註解拿掉代表讀取新的feature"
   ]
  },
  {
   "cell_type": "code",
   "execution_count": 9,
   "id": "f441975c",
   "metadata": {},
   "outputs": [],
   "source": [
    "users = users.drop(columns=[\n",
    "                            'education;classes;from;name',\n",
    "                            'education;classes;name',\n",
    "                            'education;classes;with;name',\n",
    "                            'education;concentration;name',\n",
    "                            'education;degree;name',\n",
    "                            'education;school;name',\n",
    "                            'education;with;name',\n",
    "                            'education;year;name',\n",
    "                            'hometown;name',\n",
    "                            'languages;name',\n",
    "                            'location;name',\n",
    "                            'work;employer;name',\n",
    "                            'work;from;name',\n",
    "                            'work;location;name',\n",
    "                            'work;position;name',\n",
    "                            'work;projects;from;name',\n",
    "                            'work;projects;name',\n",
    "                            'work;projects;with;name',\n",
    "                            'work;with;name'\n",
    "                            ])\n"
   ]
  },
  {
   "cell_type": "code",
   "execution_count": 10,
   "id": "e03def02",
   "metadata": {},
   "outputs": [],
   "source": [
    "users_friend = pd.read_csv('df_new_friend.csv')"
   ]
  },
  {
   "cell_type": "code",
   "execution_count": 11,
   "id": "34e726ac",
   "metadata": {},
   "outputs": [],
   "source": [
    "users_friend = users_friend.drop(columns=[\n",
    "                            'education;classes;from;name;friend',\n",
    "                            'education;classes;name;friend',\n",
    "                            'education;classes;with;name;friend',\n",
    "                            'education;concentration;name;friend',\n",
    "                            'education;degree;name;friend',\n",
    "                            'education;school;name;friend',\n",
    "                            'education;with;name;friend',\n",
    "                            'education;year;name;friend',\n",
    "                            'hometown;name;friend',\n",
    "                            'languages;name;friend',\n",
    "                            'location;name;friend',\n",
    "                            'work;employer;name;friend',\n",
    "                            'work;from;name;friend',\n",
    "                            'work;location;name;friend',\n",
    "                            'work;position;name;friend',\n",
    "                            'work;projects;from;name;friend',\n",
    "                            'work;projects;name;friend',\n",
    "                            'work;projects;with;name;friend',\n",
    "                            'work;with;name;friend'\n",
    "                            ])\n"
   ]
  },
  {
   "cell_type": "code",
   "execution_count": 12,
   "id": "7a238a2f",
   "metadata": {},
   "outputs": [],
   "source": [
    "users_target = pd.read_csv('df_new_target.csv')"
   ]
  },
  {
   "cell_type": "code",
   "execution_count": 13,
   "id": "3745bdd3",
   "metadata": {},
   "outputs": [],
   "source": [
    "users_target = users_target.drop(columns=[\n",
    "                            'education;classes;from;name;target',\n",
    "                            'education;classes;name;target',\n",
    "                            'education;classes;with;name;target',\n",
    "                            'education;concentration;name;target',\n",
    "                            'education;degree;name;target',\n",
    "                            'education;school;name;target',\n",
    "                            'education;with;name;target',\n",
    "                            'education;year;name;target',\n",
    "                            'hometown;name;target',\n",
    "                            'languages;name;target',\n",
    "                            'location;name;target',\n",
    "                            'work;employer;name;target',\n",
    "                            'work;from;name;target',\n",
    "                            'work;location;name;target',\n",
    "                            'work;position;name;target',\n",
    "                            'work;projects;from;name;target',\n",
    "                            'work;projects;name;target',\n",
    "                            'work;projects;with;name;target',\n",
    "                            'work;with;name;target'\n",
    "                            ])"
   ]
  },
  {
   "cell_type": "code",
   "execution_count": 14,
   "id": "6e97f69d",
   "metadata": {},
   "outputs": [],
   "source": [
    "users = pd.concat([users,users_friend],axis = 1)"
   ]
  },
  {
   "cell_type": "code",
   "execution_count": 15,
   "id": "b91531f1",
   "metadata": {},
   "outputs": [],
   "source": [
    "users = pd.concat([users,users_target],axis = 1)"
   ]
  },
  {
   "cell_type": "markdown",
   "id": "cfb01a0a",
   "metadata": {},
   "source": [
    "## Predict Data"
   ]
  },
  {
   "cell_type": "code",
   "execution_count": 16,
   "id": "39e416bb",
   "metadata": {},
   "outputs": [],
   "source": [
    "circlesP = {}\n",
    "\n",
    "# 這裡是整理所有的 predict data，但因為目前沒有所以暫時用 training 的代替\n",
    "for i in range(len(train_dict)):\n",
    "    uidP,friendsP = train_dict[i]['UserId'], train_dict[i]['Predicted'] # predict \n",
    "    circlesP[int(uidP)] = [set([int(x) for x in c.split()]) for c in friendsP.split(';')]"
   ]
  },
  {
   "cell_type": "markdown",
   "id": "27860602",
   "metadata": {},
   "source": [
    "## Connected Component\n",
    "#### 測試connected component"
   ]
  },
  {
   "cell_type": "code",
   "execution_count": 17,
   "id": "54e69a91",
   "metadata": {},
   "outputs": [],
   "source": [
    "from connected_components import findCommunities\n",
    "import sys, os\n",
    "\n",
    "def connected_componet(target_dir):\n",
    "    egoUser = -1\n",
    "    try:\n",
    "        egoUser = int(re.sub(\"\\D\", '', target_dir))\n",
    "    except Exception as e:\n",
    "        print(\"Expected files to be names 'X.egonet' where X is a user ID\")\n",
    "\n",
    "    cs = list(findCommunities(target_dir))\n",
    "\n",
    "    if len(cs) == 0:\n",
    "        cs = [set(adj.keys())]\n",
    "    cs = [' '.join([str(y) for y in x]) for x in cs]\n",
    "    res = str(egoUser) + ',' + ';'.join(cs)\n",
    "    \n",
    "    return res\n",
    "    "
   ]
  },
  {
   "cell_type": "code",
   "execution_count": 18,
   "id": "bf1ce2f7",
   "metadata": {},
   "outputs": [],
   "source": [
    "def process(test_ego_num):\n",
    "    return [{\n",
    "            'UserId': test_ego_num.split(',')[0],\n",
    "            'Predicted': test_ego_num.split(',')[1]\n",
    "            }]\n"
   ]
  },
  {
   "cell_type": "code",
   "execution_count": 19,
   "id": "8b99065c",
   "metadata": {},
   "outputs": [],
   "source": [
    "connect_egonet = []\n",
    "for i in range(len(train.files)):\n",
    "    target_dir = os.getcwd()+\"\\\\egonets\\\\\"+train.files[i].replace('circles', 'egonet')\n",
    "    test_ego_num = connected_componet(target_dir)\n",
    "    test = process(test_ego_num)\n",
    "    connect_egonet+=(test)"
   ]
  },
  {
   "cell_type": "markdown",
   "id": "2fe9aaa6",
   "metadata": {},
   "source": [
    "# Caculate Loss\n",
    "### 之後可能要放進一個mode裡面當作 objective function 之類的，這邊先暫時表達一次性的評分"
   ]
  },
  {
   "cell_type": "markdown",
   "id": "8ad4b88e",
   "metadata": {},
   "source": [
    "## Model"
   ]
  },
  {
   "cell_type": "code",
   "execution_count": 20,
   "id": "23bb8af1",
   "metadata": {},
   "outputs": [],
   "source": [
    "from sklearn.cluster import KMeans\n",
    "\n",
    "def exe(n_clusters):\n",
    "    km = KMeans(\n",
    "        n_clusters=n_clusters, init='random',\n",
    "        n_init=10, max_iter=300, \n",
    "        tol=1e-04, random_state=2\n",
    "    )\n",
    "    final, indexx = [], []\n",
    "    for i in range(len(train_ego_index)):\n",
    "        index = user_list[train_ego_index[i]] # 更改數字可以挑選要哪一個 training data \n",
    "        test = users.iloc[index]\n",
    "\n",
    "        X = np.array(test).astype(np.int64)\n",
    "        return X\n",
    "        y_km = km.fit(X)\n",
    "        predict = y_km.predict(X)\n",
    "        final.append(predict)\n",
    "        indexx.append(index)\n",
    "    return final, indexx"
   ]
  },
  {
   "cell_type": "code",
   "execution_count": 21,
   "id": "d5fcef2c",
   "metadata": {},
   "outputs": [],
   "source": [
    "from socialCircles_metric import loss1\n",
    "\n",
    "def temperal(train_dict):\n",
    "        \n",
    "    circlesG = {}\n",
    "\n",
    "    for i in range(len(train_dict)):\n",
    "        uidG,friendsG = train_dict[i]['UserId'], train_dict[i]['Predicted'] # ground truth\n",
    "        circlesG[int(uidG)] = [set([int(x) for x in c.split()]) for c in friendsG.split(';')] \n",
    "        \n",
    "        \n",
    "    totalLoss = 0\n",
    "    for k in circlesP.keys():\n",
    "        try:\n",
    "            if k not in circlesG:\n",
    "                print(\"Ground-truth has prediction for circle\", k, \"but prediction does not\")\n",
    "                break\n",
    "\n",
    "            l = loss1(circlesG[k], circlesP[k])\n",
    "            #print(\"loss for user\", k, \"=\", l)\n",
    "            totalLoss += l\n",
    "        except:\n",
    "            continue\n",
    "            \n",
    "    print(\"total loss for all users =\", totalLoss)"
   ]
  },
  {
   "cell_type": "code",
   "execution_count": 22,
   "id": "97b7b5d4",
   "metadata": {},
   "outputs": [],
   "source": [
    "def data(n_clusters):\n",
    "\n",
    "    final, index = exe(n_clusters)\n",
    "    \n",
    "    resss = []\n",
    "    for k in range(len(final)):\n",
    "        fina = \"\"\n",
    "        for i in range(n_clusters):\n",
    "            tem = ''\n",
    "\n",
    "            for j in range(len(final[k])):\n",
    "                if final[k][j] == i:\n",
    "                    tem+= ' ' + str(index[k][j])\n",
    "            fina += tem.strip() + ';'\n",
    "        resss.append(fina)\n",
    "        \n",
    "    transform_label = []\n",
    "    \n",
    "    for i in range(len(index)):\n",
    "        transform_label.append({\"UserId\":index[i][0]-1, \"Predicted\":resss[i].strip()[:-1]})\n",
    "        \n",
    "    return transform_label"
   ]
  },
  {
   "cell_type": "code",
   "execution_count": 23,
   "id": "6d8caee8",
   "metadata": {},
   "outputs": [
    {
     "name": "stdout",
     "output_type": "stream",
     "text": [
      "total loss for all users = 17606\n"
     ]
    }
   ],
   "source": [
    "temperal(connect_egonet)"
   ]
  },
  {
   "cell_type": "code",
   "execution_count": 24,
   "id": "1df188fc",
   "metadata": {},
   "outputs": [
    {
     "name": "stdout",
     "output_type": "stream",
     "text": [
      "total loss for all users = 0\n"
     ]
    }
   ],
   "source": [
    "temperal(train_dict)"
   ]
  },
  {
   "cell_type": "code",
   "execution_count": 25,
   "id": "3f02fe2d",
   "metadata": {},
   "outputs": [],
   "source": [
    "index = train_ego_index[30]\n",
    "first_user = user_list[index][0]"
   ]
  },
  {
   "cell_type": "code",
   "execution_count": 26,
   "id": "540f0f92",
   "metadata": {},
   "outputs": [],
   "source": [
    "from collections import Counter\n",
    "\n",
    "def count_similarity(a, b):\n",
    "    count = 0\n",
    "    for i in range(len(a)):\n",
    "        if (a[i] != -1) and (a[i] == b[i]):\n",
    "            count+=1\n",
    "            \n",
    "    return count/(len(a) - Counter(a)[-1]) # 分母為去除掉 -1 的個數"
   ]
  },
  {
   "cell_type": "code",
   "execution_count": 27,
   "id": "a5c629eb",
   "metadata": {},
   "outputs": [],
   "source": [
    "test = users.iloc[user_list[index]]"
   ]
  },
  {
   "cell_type": "code",
   "execution_count": 28,
   "id": "a7545e47",
   "metadata": {},
   "outputs": [],
   "source": [
    "res = []\n",
    "for j in range(len(user_list[index])):\n",
    "    user, friend = ego_list[index][j][0], ego_list[index][j][1:]\n",
    "    temp1 = []\n",
    "    for i in range(len(friend)):\n",
    "        temp1.append(count_similarity(test.iloc[user-first_user], test.iloc[friend[i] - first_user]))\n",
    "    res.append(temp1)"
   ]
  },
  {
   "cell_type": "code",
   "execution_count": 30,
   "id": "0f8f3252",
   "metadata": {},
   "outputs": [],
   "source": [
    "def process_res(res, first_user):\n",
    "    temp = ''\n",
    "    index = 0\n",
    "    a = ''\n",
    "    for i in range(len(res)):\n",
    "        if index != res[i][1]:\n",
    "            index = res[i][1]\n",
    "            temp += a.strip() + ';'\n",
    "            a = ''\n",
    "        a += ' '+str(res[i][0])\n",
    "    temp += a.strip()\n",
    "        \n",
    "    return [{'UserId':first_user-1, 'Predicted':temp}]"
   ]
  },
  {
   "cell_type": "code",
   "execution_count": 31,
   "id": "709d12dd",
   "metadata": {},
   "outputs": [],
   "source": [
    "from socialCircles_metric import loss1\n",
    "\n",
    "def another_temperal(circlesG):\n",
    "        \n",
    "    totalLoss = 0\n",
    "    for k in circlesP.keys():\n",
    "        try:\n",
    "            if k not in circlesG:\n",
    "                print(\"Ground-truth has prediction for circle\", k, \"but prediction does not\")\n",
    "                #break\n",
    "\n",
    "            l = loss1(circlesG[k], circlesP[k])\n",
    "            #print(\"loss for user\", k, \"=\", l)\n",
    "            totalLoss += l\n",
    "        except:\n",
    "            continue\n",
    "            \n",
    "    print(\"total loss for all users =\", totalLoss)\n",
    "    return totalLoss"
   ]
  },
  {
   "cell_type": "code",
   "execution_count": 32,
   "id": "2a9868d0",
   "metadata": {},
   "outputs": [],
   "source": [
    "import community\n",
    "from utils.visual import plot, draw, colors\n",
    "import networkx as nx\n",
    "import networkx.algorithms.community as nx_comm\n",
    "# from sklearn.metrics import pairwise_distances\n",
    "from itertools import combinations\n",
    "\n",
    "# Create a graph using NetworkX\n",
    "def do(W):\n",
    "    aa=[]\n",
    "    bb={}\n",
    "    \n",
    "    for i in range(len(train_ego_index)):\n",
    "        G = nx.Graph()\n",
    "        index = train_ego_index[i]\n",
    "        first_user = user_list[index][0]\n",
    "        temp_path = os.path.join(egonet.target_dir, egonet.files[index]) #51\n",
    "        G = draw(temp_path)\n",
    "        # G.add_nodes_from(user_list[train_ego_index[i]])\n",
    "        for u,v in combinations(G.nodes(),2):\n",
    "            if (u,v) in G.edges():\n",
    "                SIM = np.array((users.iloc[u].to_list()) == np.array(users.iloc[v].to_list())) & (np.array(users.iloc[u].to_list()) != '-1')\n",
    "                q = np.sum((np.array(users.iloc[u].to_list()) != '-1') & (np.array(users.iloc[v].to_list()) != '-1'))\n",
    "                similarity = np.sum(SIM * W)\n",
    "                G.add_edge(u,v,weight=similarity/q)\n",
    "\n",
    "        bb[first_user-1] = nx_comm.louvain_communities(G,threshold=0.1 , seed=123)\n",
    "\n",
    "#         partition = community.best_partition(G)\n",
    "#         res = sorted(partition.items(), key=lambda item: item[1])\n",
    "#         aa+=process_res(res, index)\n",
    "    return bb #aa"
   ]
  },
  {
   "cell_type": "code",
   "execution_count": 33,
   "id": "62d32787",
   "metadata": {},
   "outputs": [],
   "source": [
    "W = np.ones(len(users.columns))"
   ]
  },
  {
   "cell_type": "code",
   "execution_count": 34,
   "id": "035844b3",
   "metadata": {},
   "outputs": [],
   "source": [
    "aaa = do(W)"
   ]
  },
  {
   "cell_type": "code",
   "execution_count": 35,
   "id": "50afb84f",
   "metadata": {},
   "outputs": [
    {
     "name": "stdout",
     "output_type": "stream",
     "text": [
      "total loss for all users = 12942\n"
     ]
    },
    {
     "data": {
      "text/plain": [
       "12942"
      ]
     },
     "execution_count": 35,
     "metadata": {},
     "output_type": "execute_result"
    }
   ],
   "source": [
    "another_temperal(aaa)"
   ]
  },
  {
   "cell_type": "code",
   "execution_count": null,
   "id": "ba64760d",
   "metadata": {},
   "outputs": [],
   "source": [
    "from sklearn.tree import DecisionTreeClassifier\n",
    "from sklearn.model_selection import cross_val_score\n",
    "import pygad\n",
    "\n",
    "def fitness_func(solution, solution_idx):\n",
    "        return 99999-another_temperal(do(solution))\n",
    "\n",
    "\n",
    "ga_instance = pygad.GA(num_generations=20,\n",
    "                        num_parents_mating=20, \n",
    "                        fitness_func=fitness_func,\n",
    "                        sol_per_pop=50, \n",
    "                        num_genes=len(users.columns),\n",
    "                        init_range_low=0,\n",
    "                        init_range_high=1,\n",
    "                        # mutation_percent_genes=1,\n",
    "                        # keep_parents=5\n",
    "                        )\n",
    "\n",
    "ga_instance.run()\n",
    "\n",
    "solution, solution_fitness, solution_idx = ga_instance.best_solution()\n",
    "print(\"Fitness: {solution_fitness}\".format(solution_fitness=solution_fitness))\n",
    "print(another_temperal(do(solution)))\n",
    "\n",
    "ga_instance.plot_result()\n"
   ]
  },
  {
   "cell_type": "code",
   "execution_count": null,
   "id": "649edaf9",
   "metadata": {},
   "outputs": [],
   "source": []
  },
  {
   "cell_type": "code",
   "execution_count": null,
   "id": "87e0cccb",
   "metadata": {},
   "outputs": [],
   "source": []
  }
 ],
 "metadata": {
  "kernelspec": {
   "display_name": "data",
   "language": "python",
   "name": "data"
  },
  "language_info": {
   "codemirror_mode": {
    "name": "ipython",
    "version": 3
   },
   "file_extension": ".py",
   "mimetype": "text/x-python",
   "name": "python",
   "nbconvert_exporter": "python",
   "pygments_lexer": "ipython3",
   "version": "3.10.3"
  },
  "vscode": {
   "interpreter": {
    "hash": "cbb8ea660c2df945b4c92be8ca2daad7d01bf7fbfb9f56ec33f08460c0431f59"
   }
  }
 },
 "nbformat": 4,
 "nbformat_minor": 5
}
