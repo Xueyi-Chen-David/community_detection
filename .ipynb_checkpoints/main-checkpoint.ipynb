{
 "cells": [
  {
   "cell_type": "code",
   "execution_count": 1,
   "id": "eabe3191",
   "metadata": {},
   "outputs": [],
   "source": [
    "# https://pypi.org/project/torch-geometric/\n",
    "# pip install torch\n",
    "# pip install torch-scatter -f https://data.pyg.org/whl/torch-1.13.0+cpu.html\n",
    "# pip install torch-sparse -f https://data.pyg.org/whl/torch-1.13.0+cpu.html\n",
    "# pip install torch-geometric\n",
    "\n",
    "\n",
    "# https://towardsdatascience.com/louvains-algorithm-for-community-detection-in-python-95ff7f675306\n",
    "import torch\n",
    "from torch import Tensor\n",
    "from torch_geometric.nn import GCNConv\n",
    "from torch_geometric.datasets import Planetoid\n",
    "import pandas as pd\n",
    "import numpy as np\n",
    "import matplotlib.pyplot as plt\n",
    "import networkx as nx\n",
    "from collections import Counter "
   ]
  },
  {
   "cell_type": "code",
   "execution_count": 2,
   "id": "d5d52cc4",
   "metadata": {},
   "outputs": [],
   "source": [
    "# plot the data\n",
    "from utils.visual import plot\n",
    "\n",
    "#plot(0) "
   ]
  },
  {
   "cell_type": "code",
   "execution_count": 3,
   "id": "2bd543bf",
   "metadata": {},
   "outputs": [],
   "source": [
    "import re\n",
    "\n",
    "def find_train_ego_index():\n",
    "    pre = []\n",
    "    for item in train.files:\n",
    "        pre.append(int(re.sub('\\D', '',item )))\n",
    "        \n",
    "    train_ego_index = []\n",
    "    for i in range(110):\n",
    "        temp = ego_list[i][0][0]-1\n",
    "        if temp in pre:\n",
    "            train_ego_index.append(i)\n",
    "    return train_ego_index"
   ]
  },
  {
   "cell_type": "code",
   "execution_count": 4,
   "id": "7656d568",
   "metadata": {},
   "outputs": [],
   "source": [
    "# self-made packages\n",
    "from utils.data import data_preprocess\n",
    "\n",
    "\n",
    "train = data_preprocess(\"\\Training\")\n",
    "train_list, train_dict = train.train_data()\n",
    "df = pd.DataFrame(data=train_dict)"
   ]
  },
  {
   "cell_type": "code",
   "execution_count": 5,
   "id": "c3f6b809",
   "metadata": {},
   "outputs": [],
   "source": [
    "egonet = data_preprocess(\"\\egonets\")\n",
    "ego_list = egonet.ego_data()"
   ]
  },
  {
   "cell_type": "code",
   "execution_count": 19,
   "id": "31cdba1f",
   "metadata": {},
   "outputs": [],
   "source": [
    "# 這個是指應該將哪些 ego_list 用在 training，方便輸入0,1,2，就不用輸入 239、345、661...\n",
    "train_ego_index = find_train_ego_index()"
   ]
  },
  {
   "cell_type": "markdown",
   "id": "33e020cc",
   "metadata": {},
   "source": [
    "## Data Preparation"
   ]
  },
  {
   "cell_type": "code",
   "execution_count": 10,
   "id": "14363c47",
   "metadata": {},
   "outputs": [],
   "source": [
    "# choose which should train\n",
    "train_list = []\n",
    "for j in range(len(ego_list)):\n",
    "    temp = []\n",
    "    for i in range(len(ego_list[j])):\n",
    "        temp += ego_list[j][i] \n",
    "    train_list.append(temp)"
   ]
  },
  {
   "cell_type": "code",
   "execution_count": 12,
   "id": "0ff35c1b",
   "metadata": {},
   "outputs": [],
   "source": [
    "from utils.user import users\n",
    "\n",
    "users = users()\n",
    "index = list(set(train_list[train_ego_index[0]])) # 更改數字可以挑選要哪一個 training data \n",
    "test1 = users.iloc[index]\n",
    "\n",
    "# edge information EX: (240, 241), (240, 242)...\n",
    "egonet.edge_data(train_ego_index[0])"
   ]
  },
  {
   "cell_type": "markdown",
   "id": "7d6fe149",
   "metadata": {},
   "source": [
    "## Predict Data"
   ]
  },
  {
   "cell_type": "code",
   "execution_count": 21,
   "id": "10ec60df",
   "metadata": {},
   "outputs": [],
   "source": [
    "circlesP = {}\n",
    "\n",
    "# 這裡是整理所有的 predict data，但因為目前沒有所以暫時用 training 的代替\n",
    "for i in range(len(train_dict)):\n",
    "    uidP,friendsP = train_dict[i]['UserId'], train_dict[i]['Predicted'] # predict \n",
    "    circlesP[int(uidP)] = [set([int(x) for x in c.split()]) for c in friendsP.split(';')]"
   ]
  },
  {
   "cell_type": "markdown",
   "id": "dbb111a8",
   "metadata": {},
   "source": [
    "# Caculate Loss\n",
    "### 之後可能要放進一個mode裡面當作 objective function 之類的，這邊先暫時表達一次性的評分"
   ]
  },
  {
   "cell_type": "code",
   "execution_count": 22,
   "id": "b5f3fec0",
   "metadata": {},
   "outputs": [
    {
     "name": "stdout",
     "output_type": "stream",
     "text": [
      "loss for user 239 = 0\n",
      "loss for user 345 = 0\n",
      "loss for user 611 = 0\n",
      "loss for user 1357 = 0\n",
      "loss for user 1839 = 0\n",
      "loss for user 1968 = 0\n",
      "loss for user 2255 = 0\n",
      "loss for user 2365 = 0\n",
      "loss for user 2738 = 0\n",
      "loss for user 2790 = 0\n",
      "loss for user 2895 = 0\n",
      "loss for user 3059 = 0\n",
      "loss for user 3735 = 0\n",
      "loss for user 4406 = 0\n",
      "loss for user 4829 = 0\n",
      "loss for user 5212 = 0\n",
      "loss for user 5494 = 0\n",
      "loss for user 5881 = 0\n",
      "loss for user 6413 = 0\n",
      "loss for user 6726 = 0\n",
      "loss for user 7667 = 0\n",
      "loss for user 8100 = 0\n",
      "loss for user 8239 = 0\n",
      "loss for user 8553 = 0\n",
      "loss for user 8777 = 0\n",
      "loss for user 9103 = 0\n",
      "loss for user 9642 = 0\n",
      "loss for user 9846 = 0\n",
      "loss for user 9947 = 0\n",
      "loss for user 10395 = 0\n",
      "loss for user 10929 = 0\n",
      "loss for user 11014 = 0\n",
      "loss for user 11186 = 0\n",
      "loss for user 11364 = 0\n",
      "loss for user 11410 = 0\n",
      "loss for user 12800 = 0\n",
      "loss for user 13353 = 0\n",
      "loss for user 13789 = 0\n",
      "loss for user 15672 = 0\n",
      "loss for user 16203 = 0\n",
      "loss for user 16378 = 0\n",
      "loss for user 16642 = 0\n",
      "loss for user 16869 = 0\n",
      "loss for user 17951 = 0\n",
      "loss for user 18005 = 0\n",
      "loss for user 18543 = 0\n",
      "loss for user 19129 = 0\n",
      "loss for user 19788 = 0\n",
      "loss for user 22650 = 0\n",
      "loss for user 22824 = 0\n",
      "loss for user 23157 = 0\n",
      "loss for user 23299 = 0\n",
      "loss for user 24758 = 0\n",
      "loss for user 24857 = 0\n",
      "loss for user 25159 = 0\n",
      "loss for user 25568 = 0\n",
      "loss for user 25773 = 0\n",
      "loss for user 26321 = 0\n",
      "loss for user 26492 = 0\n",
      "loss for user 27022 = 0\n",
      "total loss for all users = 0\n"
     ]
    }
   ],
   "source": [
    "from socialCircles_metric import loss1\n",
    "\n",
    "\n",
    "circlesG = {}\n",
    "\n",
    "for i in range(len(train_dict)):\n",
    "    uidG,friendsG = train_dict[i]['UserId'], train_dict[i]['Predicted'] # ground truth\n",
    "    circlesG[int(uidG)] = [set([int(x) for x in c.split()]) for c in friendsG.split(';')] \n",
    "\n",
    "totalLoss = 0\n",
    "for k in circlesP.keys():\n",
    "    if k not in circlesG:\n",
    "        print(\"Ground-truth has prediction for circle\", k, \"but prediction does not\")\n",
    "        sys.exit(0)\n",
    "    l = loss1(circlesG[k], circlesP[k])\n",
    "    print(\"loss for user\", k, \"=\", l)\n",
    "    totalLoss += l\n",
    "\n",
    "print(\"total loss for all users =\", totalLoss)"
   ]
  },
  {
   "cell_type": "code",
   "execution_count": null,
   "id": "151f347b",
   "metadata": {},
   "outputs": [],
   "source": []
  }
 ],
 "metadata": {
  "kernelspec": {
   "display_name": "data",
   "language": "python",
   "name": "data"
  },
  "language_info": {
   "codemirror_mode": {
    "name": "ipython",
    "version": 3
   },
   "file_extension": ".py",
   "mimetype": "text/x-python",
   "name": "python",
   "nbconvert_exporter": "python",
   "pygments_lexer": "ipython3",
   "version": "3.10.3"
  }
 },
 "nbformat": 4,
 "nbformat_minor": 5
}
