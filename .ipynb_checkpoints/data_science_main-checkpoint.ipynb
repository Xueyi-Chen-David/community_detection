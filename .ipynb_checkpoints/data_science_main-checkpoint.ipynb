{
 "cells": [
  {
   "cell_type": "code",
   "execution_count": 4,
   "id": "f2d9b2db",
   "metadata": {},
   "outputs": [],
   "source": [
    "# https://pypi.org/project/torch-geometric/\n",
    "# pip install torch\n",
    "# pip install torch-scatter -f https://data.pyg.org/whl/torch-1.13.0+cpu.html\n",
    "# pip install torch-sparse -f https://data.pyg.org/whl/torch-1.13.0+cpu.html\n",
    "# pip install torch-geometric\n",
    "\n",
    "\n",
    "# https://towardsdatascience.com/louvains-algorithm-for-community-detection-in-python-95ff7f675306\n",
    "import torch\n",
    "from torch import Tensor\n",
    "from torch_geometric.nn import GCNConv\n",
    "from torch_geometric.datasets import Planetoid\n",
    "import pandas as pd\n",
    "import numpy as np\n",
    "import matplotlib.pyplot as plt\n",
    "import networkx as nx\n",
    "from collections import Counter "
   ]
  },
  {
   "cell_type": "markdown",
   "id": "22f3cde7",
   "metadata": {},
   "source": [
    "# 一、Data Inclusion\n",
    "<br>\n",
    "先將 training data include 進來，可以使用 print 看一下 train_data 長甚麼樣子，基本上就是以下這個 format <p>circleID: friend1 friend2 friend3 ... <p/>\n",
    "\n",
    "總共有57種 features<br>"
   ]
  },
  {
   "cell_type": "code",
   "execution_count": 678,
   "id": "6c8f9f8e",
   "metadata": {},
   "outputs": [
    {
     "name": "stdout",
     "output_type": "stream",
     "text": [
      "number of trainin data: 592\n",
      "number of features : 57\n"
     ]
    }
   ],
   "source": [
    "import os\n",
    "\n",
    "# Include Training dataset\n",
    "target_dir = os.getcwd()+\"\\Training\"\n",
    "\n",
    "data = []\n",
    "for filename in os.listdir(target_dir):\n",
    "    with open(os.path.join(target_dir, filename), 'r') as f:\n",
    "        data += f.readlines()\n",
    "\n",
    "train_data = []\n",
    "for i in range(len(data)):\n",
    "    train_data.append(data[i].split()[1:]) # circle* is seems not nesseary\n",
    "\n",
    "print(f\"number of trainin data: {len(train_data)}\")\n",
    "    \n",
    "    \n",
    "    \n",
    "# Total is 57 kinds of features\n",
    "\n",
    "with open(\"featureList.txt\", 'r') as f:\n",
    "    feature_list = f.readlines()\n",
    "\n",
    "for i in range(len(feature_list)):\n",
    "    feature_list[i] = feature_list[i].replace('\\n', '')\n",
    "\n",
    "print(f\"number of features : {len(feature_list)}\")\n"
   ]
  },
  {
   "cell_type": "markdown",
   "id": "87067ba7",
   "metadata": {},
   "source": [
    "# 二、Data Preprocessing\n",
    "\n",
    "之後可以在這裡做一些 feature selection 之類的、或者視覺化<br>\n",
    "有一些 features 是 NaN，可以做一些處理"
   ]
  },
  {
   "cell_type": "markdown",
   "id": "9899192d",
   "metadata": {},
   "source": [
    "舉例:   \n",
    "26321.circles 和 25773.circles 都有circle 10分別是  \n",
    "26321.circles -> circle10: 26379 26455 26482 26340 26409 26366 26390 26477 26415 26462 26402  \n",
    "25773.circles -> circle10: 25787 25924 25947 25836 25817 25857 25902 25815 25821 25774 25961 ...\n",
    "  \n",
    "應該要將同樣 circle 的 user 加在一起，因為他們都是同一個 circle  \n",
    "  \n",
    "在沒這樣做之前，circle會重複，所以會誤以為是 592個，但實際上應該是455個才對"
   ]
  },
  {
   "cell_type": "code",
   "execution_count": 679,
   "id": "d98b00d1",
   "metadata": {},
   "outputs": [
    {
     "name": "stdout",
     "output_type": "stream",
     "text": [
      "Show the fist 5 elements: ['circle13', 'circle18', 'circle62', 'circle10', 'circle74']\n",
      "Actually circle numbers: 455 not 592\n"
     ]
    }
   ],
   "source": [
    "# 先找出重複的circle有幾個，再針對他們做合併，應該比較快，就不用一個一個還要重複掃\n",
    "tes = []\n",
    "for i in range(len(data)):\n",
    "    tes.append(data[i].split(':')[0])\n",
    "\n",
    "a = Counter(tes).most_common()[:46] # 有重複的總共46個\n",
    "b = []\n",
    "for i in range(len(a)):\n",
    "    b.append(a[i][0])\n",
    "print(f\"Show the fist 5 elements: {b[:5]}\")\n",
    "print(f\"Actually circle numbers: {len(Counter(tes))} not {len(tes)}\")"
   ]
  },
  {
   "cell_type": "code",
   "execution_count": 680,
   "id": "ca7f862d",
   "metadata": {},
   "outputs": [
    {
     "name": "stdout",
     "output_type": "stream",
     "text": [
      "Examine if the number is correct : 455. The answer is yes, we eliminate repeat cicles.\n"
     ]
    }
   ],
   "source": [
    "temp_a = []\n",
    "\n",
    "for target in b:\n",
    "    temp = []\n",
    "    for i in range(len(data)):\n",
    "        circle_name = data[i].split(':')[:1][0]\n",
    "        if circle_name == target:\n",
    "            temp += data[i].split()[1:]\n",
    "\n",
    "    temp_a.append(temp)\n",
    "\n",
    "for i in range(len(data)):\n",
    "    circle_name = data[i].split(':')[:1][0]\n",
    "    \n",
    "    if circle_name not in b: #如果 circle name 沒有重複的名單中，加入到list中\n",
    "        temp_a.append(data[i].split()[1:])\n",
    "        \n",
    "print(f\"Examine if the number is correct : {len(temp_a)}. The answer is yes, we eliminate repeated circles.\")"
   ]
  },
  {
   "cell_type": "markdown",
   "id": "68431a97",
   "metadata": {},
   "source": [
    "#### label每個node"
   ]
  },
  {
   "cell_type": "code",
   "execution_count": 695,
   "id": "38767c64",
   "metadata": {},
   "outputs": [],
   "source": [
    "# initialization every user's label\n",
    "\n",
    "def label_data(x, circle): # x: number of dataset, circle: temp_a\n",
    "    y_label = [0] * x #27520\n",
    "\n",
    "    for i in range(len(circle)):\n",
    "        for item in circle[i]:\n",
    "            y_label[int(item)] = i+1\n",
    "    return y_label\n",
    "\n",
    "# 預想是說一個 user 應該會對應到一個 circle\n",
    "# 但 0 特別多，代表有很多 user 沒有標到\n",
    "# 下面 aaaa 是在算 train_data 中所有的 user，train_data代表將所有.circles的檔案合成一個list\n",
    "# print(len(y_label)-Counter(y_label).most_common()[0][1])\n",
    "\n",
    "aaaa = []\n",
    "for i in train_data:\n",
    "    aaaa+=i\n",
    "#print(len(Counter(aaaa)))"
   ]
  },
  {
   "cell_type": "code",
   "execution_count": 739,
   "id": "b9318d46",
   "metadata": {},
   "outputs": [],
   "source": [
    "y_label = label_data(len(df), temp_a)"
   ]
  },
  {
   "cell_type": "markdown",
   "id": "4d69a8fe",
   "metadata": {},
   "source": [
    "#### Include 每個 Node 對應的 features，並且把它包成 DataFrame，但後續還需要做處理...<br>"
   ]
  },
  {
   "cell_type": "code",
   "execution_count": 740,
   "id": "35e721a0",
   "metadata": {
    "collapsed": true
   },
   "outputs": [
    {
     "name": "stdout",
     "output_type": "stream",
     "text": [
      "number of user:  27520\n"
     ]
    },
    {
     "data": {
      "text/html": [
       "<div>\n",
       "<style scoped>\n",
       "    .dataframe tbody tr th:only-of-type {\n",
       "        vertical-align: middle;\n",
       "    }\n",
       "\n",
       "    .dataframe tbody tr th {\n",
       "        vertical-align: top;\n",
       "    }\n",
       "\n",
       "    .dataframe thead th {\n",
       "        text-align: right;\n",
       "    }\n",
       "</style>\n",
       "<table border=\"1\" class=\"dataframe\">\n",
       "  <thead>\n",
       "    <tr style=\"text-align: right;\">\n",
       "      <th></th>\n",
       "      <th>last_name</th>\n",
       "      <th>first_name</th>\n",
       "      <th>birthday</th>\n",
       "      <th>name</th>\n",
       "      <th>gender</th>\n",
       "      <th>locale</th>\n",
       "      <th>hometown;name</th>\n",
       "      <th>hometown;id</th>\n",
       "      <th>education;school;name</th>\n",
       "      <th>education;school;id</th>\n",
       "      <th>...</th>\n",
       "      <th>work;projects;from;name</th>\n",
       "      <th>work;projects;from;id</th>\n",
       "      <th>education;classes;description</th>\n",
       "      <th>work;from;name</th>\n",
       "      <th>work;from;id</th>\n",
       "      <th>political</th>\n",
       "      <th>religion</th>\n",
       "      <th>work;projects;end_date</th>\n",
       "      <th>work;projects;description</th>\n",
       "      <th>location</th>\n",
       "    </tr>\n",
       "  </thead>\n",
       "  <tbody>\n",
       "    <tr>\n",
       "      <th>0</th>\n",
       "      <td>0</td>\n",
       "      <td>0</td>\n",
       "      <td>0</td>\n",
       "      <td>0</td>\n",
       "      <td>0</td>\n",
       "      <td>0</td>\n",
       "      <td>0</td>\n",
       "      <td>0</td>\n",
       "      <td>1</td>\n",
       "      <td>1</td>\n",
       "      <td>...</td>\n",
       "      <td>-1</td>\n",
       "      <td>-1</td>\n",
       "      <td>-1</td>\n",
       "      <td>-1</td>\n",
       "      <td>-1</td>\n",
       "      <td>-1</td>\n",
       "      <td>-1</td>\n",
       "      <td>-1</td>\n",
       "      <td>-1</td>\n",
       "      <td>-1</td>\n",
       "    </tr>\n",
       "    <tr>\n",
       "      <th>1</th>\n",
       "      <td>1</td>\n",
       "      <td>1</td>\n",
       "      <td>1</td>\n",
       "      <td>1</td>\n",
       "      <td>1</td>\n",
       "      <td>0</td>\n",
       "      <td>1</td>\n",
       "      <td>1</td>\n",
       "      <td>3</td>\n",
       "      <td>3</td>\n",
       "      <td>...</td>\n",
       "      <td>-1</td>\n",
       "      <td>-1</td>\n",
       "      <td>-1</td>\n",
       "      <td>-1</td>\n",
       "      <td>-1</td>\n",
       "      <td>-1</td>\n",
       "      <td>-1</td>\n",
       "      <td>-1</td>\n",
       "      <td>-1</td>\n",
       "      <td>-1</td>\n",
       "    </tr>\n",
       "    <tr>\n",
       "      <th>2</th>\n",
       "      <td>2</td>\n",
       "      <td>2</td>\n",
       "      <td>2</td>\n",
       "      <td>2</td>\n",
       "      <td>1</td>\n",
       "      <td>0</td>\n",
       "      <td>2</td>\n",
       "      <td>2</td>\n",
       "      <td>4</td>\n",
       "      <td>4</td>\n",
       "      <td>...</td>\n",
       "      <td>-1</td>\n",
       "      <td>-1</td>\n",
       "      <td>-1</td>\n",
       "      <td>-1</td>\n",
       "      <td>-1</td>\n",
       "      <td>-1</td>\n",
       "      <td>-1</td>\n",
       "      <td>-1</td>\n",
       "      <td>-1</td>\n",
       "      <td>-1</td>\n",
       "    </tr>\n",
       "    <tr>\n",
       "      <th>3</th>\n",
       "      <td>3</td>\n",
       "      <td>3</td>\n",
       "      <td>3</td>\n",
       "      <td>3</td>\n",
       "      <td>1</td>\n",
       "      <td>0</td>\n",
       "      <td>3</td>\n",
       "      <td>3</td>\n",
       "      <td>1</td>\n",
       "      <td>1</td>\n",
       "      <td>...</td>\n",
       "      <td>-1</td>\n",
       "      <td>-1</td>\n",
       "      <td>-1</td>\n",
       "      <td>-1</td>\n",
       "      <td>-1</td>\n",
       "      <td>-1</td>\n",
       "      <td>-1</td>\n",
       "      <td>-1</td>\n",
       "      <td>-1</td>\n",
       "      <td>-1</td>\n",
       "    </tr>\n",
       "    <tr>\n",
       "      <th>4</th>\n",
       "      <td>4</td>\n",
       "      <td>4</td>\n",
       "      <td>4</td>\n",
       "      <td>4</td>\n",
       "      <td>0</td>\n",
       "      <td>0</td>\n",
       "      <td>4</td>\n",
       "      <td>4</td>\n",
       "      <td>1</td>\n",
       "      <td>1</td>\n",
       "      <td>...</td>\n",
       "      <td>-1</td>\n",
       "      <td>-1</td>\n",
       "      <td>-1</td>\n",
       "      <td>-1</td>\n",
       "      <td>-1</td>\n",
       "      <td>-1</td>\n",
       "      <td>-1</td>\n",
       "      <td>-1</td>\n",
       "      <td>-1</td>\n",
       "      <td>-1</td>\n",
       "    </tr>\n",
       "    <tr>\n",
       "      <th>...</th>\n",
       "      <td>...</td>\n",
       "      <td>...</td>\n",
       "      <td>...</td>\n",
       "      <td>...</td>\n",
       "      <td>...</td>\n",
       "      <td>...</td>\n",
       "      <td>...</td>\n",
       "      <td>...</td>\n",
       "      <td>...</td>\n",
       "      <td>...</td>\n",
       "      <td>...</td>\n",
       "      <td>...</td>\n",
       "      <td>...</td>\n",
       "      <td>...</td>\n",
       "      <td>...</td>\n",
       "      <td>...</td>\n",
       "      <td>...</td>\n",
       "      <td>...</td>\n",
       "      <td>...</td>\n",
       "      <td>...</td>\n",
       "      <td>...</td>\n",
       "    </tr>\n",
       "    <tr>\n",
       "      <th>27515</th>\n",
       "      <td>4416</td>\n",
       "      <td>3040</td>\n",
       "      <td>4794</td>\n",
       "      <td>27280</td>\n",
       "      <td>1</td>\n",
       "      <td>1</td>\n",
       "      <td>-1</td>\n",
       "      <td>-1</td>\n",
       "      <td>4174</td>\n",
       "      <td>22356</td>\n",
       "      <td>...</td>\n",
       "      <td>-1</td>\n",
       "      <td>-1</td>\n",
       "      <td>-1</td>\n",
       "      <td>-1</td>\n",
       "      <td>-1</td>\n",
       "      <td>-1</td>\n",
       "      <td>-1</td>\n",
       "      <td>-1</td>\n",
       "      <td>-1</td>\n",
       "      <td>-1</td>\n",
       "    </tr>\n",
       "    <tr>\n",
       "      <th>27516</th>\n",
       "      <td>17149</td>\n",
       "      <td>2944</td>\n",
       "      <td>-1</td>\n",
       "      <td>27281</td>\n",
       "      <td>0</td>\n",
       "      <td>0</td>\n",
       "      <td>-1</td>\n",
       "      <td>-1</td>\n",
       "      <td>-1</td>\n",
       "      <td>-1</td>\n",
       "      <td>...</td>\n",
       "      <td>-1</td>\n",
       "      <td>-1</td>\n",
       "      <td>-1</td>\n",
       "      <td>-1</td>\n",
       "      <td>-1</td>\n",
       "      <td>-1</td>\n",
       "      <td>-1</td>\n",
       "      <td>-1</td>\n",
       "      <td>-1</td>\n",
       "      <td>-1</td>\n",
       "    </tr>\n",
       "    <tr>\n",
       "      <th>27517</th>\n",
       "      <td>17150</td>\n",
       "      <td>470</td>\n",
       "      <td>-1</td>\n",
       "      <td>27282</td>\n",
       "      <td>1</td>\n",
       "      <td>1</td>\n",
       "      <td>133</td>\n",
       "      <td>133</td>\n",
       "      <td>395</td>\n",
       "      <td>405</td>\n",
       "      <td>...</td>\n",
       "      <td>-1</td>\n",
       "      <td>-1</td>\n",
       "      <td>-1</td>\n",
       "      <td>-1</td>\n",
       "      <td>-1</td>\n",
       "      <td>-1</td>\n",
       "      <td>-1</td>\n",
       "      <td>-1</td>\n",
       "      <td>-1</td>\n",
       "      <td>-1</td>\n",
       "    </tr>\n",
       "    <tr>\n",
       "      <th>27518</th>\n",
       "      <td>17151</td>\n",
       "      <td>3002</td>\n",
       "      <td>3531</td>\n",
       "      <td>27283</td>\n",
       "      <td>0</td>\n",
       "      <td>8</td>\n",
       "      <td>4299</td>\n",
       "      <td>4313</td>\n",
       "      <td>-1</td>\n",
       "      <td>-1</td>\n",
       "      <td>...</td>\n",
       "      <td>-1</td>\n",
       "      <td>-1</td>\n",
       "      <td>-1</td>\n",
       "      <td>-1</td>\n",
       "      <td>-1</td>\n",
       "      <td>-1</td>\n",
       "      <td>-1</td>\n",
       "      <td>-1</td>\n",
       "      <td>-1</td>\n",
       "      <td>-1</td>\n",
       "    </tr>\n",
       "    <tr>\n",
       "      <th>27519</th>\n",
       "      <td>17152</td>\n",
       "      <td>329</td>\n",
       "      <td>4417</td>\n",
       "      <td>27284</td>\n",
       "      <td>0</td>\n",
       "      <td>8</td>\n",
       "      <td>-1</td>\n",
       "      <td>-1</td>\n",
       "      <td>19341</td>\n",
       "      <td>20590</td>\n",
       "      <td>...</td>\n",
       "      <td>-1</td>\n",
       "      <td>-1</td>\n",
       "      <td>-1</td>\n",
       "      <td>-1</td>\n",
       "      <td>-1</td>\n",
       "      <td>-1</td>\n",
       "      <td>159</td>\n",
       "      <td>-1</td>\n",
       "      <td>-1</td>\n",
       "      <td>-1</td>\n",
       "    </tr>\n",
       "  </tbody>\n",
       "</table>\n",
       "<p>27520 rows × 57 columns</p>\n",
       "</div>"
      ],
      "text/plain": [
       "      last_name first_name birthday   name gender locale hometown;name  \\\n",
       "0             0          0        0      0      0      0             0   \n",
       "1             1          1        1      1      1      0             1   \n",
       "2             2          2        2      2      1      0             2   \n",
       "3             3          3        3      3      1      0             3   \n",
       "4             4          4        4      4      0      0             4   \n",
       "...         ...        ...      ...    ...    ...    ...           ...   \n",
       "27515      4416       3040     4794  27280      1      1            -1   \n",
       "27516     17149       2944       -1  27281      0      0            -1   \n",
       "27517     17150        470       -1  27282      1      1           133   \n",
       "27518     17151       3002     3531  27283      0      8          4299   \n",
       "27519     17152        329     4417  27284      0      8            -1   \n",
       "\n",
       "      hometown;id education;school;name education;school;id  ...  \\\n",
       "0               0                     1                   1  ...   \n",
       "1               1                     3                   3  ...   \n",
       "2               2                     4                   4  ...   \n",
       "3               3                     1                   1  ...   \n",
       "4               4                     1                   1  ...   \n",
       "...           ...                   ...                 ...  ...   \n",
       "27515          -1                  4174               22356  ...   \n",
       "27516          -1                    -1                  -1  ...   \n",
       "27517         133                   395                 405  ...   \n",
       "27518        4313                    -1                  -1  ...   \n",
       "27519          -1                 19341               20590  ...   \n",
       "\n",
       "      work;projects;from;name work;projects;from;id  \\\n",
       "0                          -1                    -1   \n",
       "1                          -1                    -1   \n",
       "2                          -1                    -1   \n",
       "3                          -1                    -1   \n",
       "4                          -1                    -1   \n",
       "...                       ...                   ...   \n",
       "27515                      -1                    -1   \n",
       "27516                      -1                    -1   \n",
       "27517                      -1                    -1   \n",
       "27518                      -1                    -1   \n",
       "27519                      -1                    -1   \n",
       "\n",
       "      education;classes;description work;from;name work;from;id political  \\\n",
       "0                                -1             -1           -1        -1   \n",
       "1                                -1             -1           -1        -1   \n",
       "2                                -1             -1           -1        -1   \n",
       "3                                -1             -1           -1        -1   \n",
       "4                                -1             -1           -1        -1   \n",
       "...                             ...            ...          ...       ...   \n",
       "27515                            -1             -1           -1        -1   \n",
       "27516                            -1             -1           -1        -1   \n",
       "27517                            -1             -1           -1        -1   \n",
       "27518                            -1             -1           -1        -1   \n",
       "27519                            -1             -1           -1        -1   \n",
       "\n",
       "      religion work;projects;end_date work;projects;description location  \n",
       "0           -1                     -1                        -1       -1  \n",
       "1           -1                     -1                        -1       -1  \n",
       "2           -1                     -1                        -1       -1  \n",
       "3           -1                     -1                        -1       -1  \n",
       "4           -1                     -1                        -1       -1  \n",
       "...        ...                    ...                       ...      ...  \n",
       "27515       -1                     -1                        -1       -1  \n",
       "27516       -1                     -1                        -1       -1  \n",
       "27517       -1                     -1                        -1       -1  \n",
       "27518       -1                     -1                        -1       -1  \n",
       "27519      159                     -1                        -1       -1  \n",
       "\n",
       "[27520 rows x 57 columns]"
      ]
     },
     "execution_count": 740,
     "metadata": {},
     "output_type": "execute_result"
    }
   ],
   "source": [
    "# Include each user's features \n",
    "    \n",
    "fea_dir = \"features\\\\features.txt\"\n",
    "features = []\n",
    "\n",
    "with open(fea_dir, 'r') as f:\n",
    "    features += f.readlines()\n",
    "\n",
    "a = [] \n",
    "\n",
    "for i in range(len(features)):\n",
    "    # split each user features by space\n",
    "    a.append(features[i].split()) \n",
    "\n",
    "final = []\n",
    "\n",
    "# make a dict that key is feature and value is corresponeding value\n",
    "for j in range(len(a)):\n",
    "    b_col = []\n",
    "    b_row = []\n",
    "    for i in range(len(a[j][1:])):\n",
    "        b_col.append(a[j][1:][i][::-1].split(';', 1)[1][::-1])\n",
    "        b_row.append(a[j][1:][i].split(';')[-1])\n",
    "\n",
    "    final.append(dict(zip(b_col, b_row)))\n",
    "    \n",
    "df = pd.DataFrame(final)\n",
    "print(f\"number of user:  {len(df)}\")\n",
    "#df # there are many NaN\n",
    "df_new = df.fillna(-1)\n",
    "\n",
    "df_new"
   ]
  },
  {
   "cell_type": "code",
   "execution_count": 741,
   "id": "4f25f2e4",
   "metadata": {},
   "outputs": [],
   "source": [
    "# 刪除資料集沒有circle的user\n",
    "abc = df_new.copy()\n",
    "\n",
    "# assign \"label\" as a feature in dataframe\n",
    "abc = abc.assign(label = y_label)\n",
    "\n",
    "# drop the rows if value in label is zero, and direct delete data\n",
    "abc.drop(abc[abc.label==0].index, inplace=True)"
   ]
  },
  {
   "cell_type": "code",
   "execution_count": 790,
   "id": "cb168465",
   "metadata": {},
   "outputs": [],
   "source": [
    "def select_data(n): # select the dataframe based on its label frequency\n",
    "    top_n = Counter(abc['label']).most_common()[:n]\n",
    "    top_n_label = [top_n[i][0] for i in range(len(top_n))]\n",
    "    \n",
    "    options = top_n_label\n",
    "    rslt_df = abc[abc['label'].isin(options)] # select features which is in top_n_label\n",
    "    return rslt_df"
   ]
  },
  {
   "cell_type": "code",
   "execution_count": 818,
   "id": "c70abdc3",
   "metadata": {},
   "outputs": [],
   "source": [
    "rslt_df50 = select_data(50) # choose user whose belonging circle is top 50 in all circle (total 455)\n",
    "rslt_df100 = select_data(100)\n",
    "rslt_df150 = select_data(150)"
   ]
  },
  {
   "cell_type": "code",
   "execution_count": 827,
   "id": "6ffffdd0",
   "metadata": {},
   "outputs": [
    {
     "data": {
      "text/plain": [
       "244        2\n",
       "245        2\n",
       "252        2\n",
       "257        2\n",
       "268        2\n",
       "        ... \n",
       "27512    368\n",
       "27513    368\n",
       "27516    368\n",
       "27518    368\n",
       "27519    368\n",
       "Name: label, Length: 5960, dtype: int64"
      ]
     },
     "execution_count": 827,
     "metadata": {},
     "output_type": "execute_result"
    }
   ],
   "source": [
    "rslt_df50['label']"
   ]
  },
  {
   "cell_type": "markdown",
   "id": "8664dc4b",
   "metadata": {},
   "source": [
    "# 三、Model"
   ]
  },
  {
   "cell_type": "markdown",
   "id": "07fe0f56",
   "metadata": {},
   "source": [
    "Louvain Community Detection  \n",
    "Surprise Community Detection  \n",
    "Leiden Community Detection  \n",
    "Walktrap Community Detection"
   ]
  },
  {
   "cell_type": "code",
   "execution_count": 297,
   "id": "010ebaee",
   "metadata": {},
   "outputs": [],
   "source": [
    "from sklearn import tree\n",
    "from sklearn.model_selection import KFold, cross_val_score\n",
    "\n",
    "\n",
    "def decision_tree(df_new, y_label_new, n_splits = 10, shuffle=True):\n",
    "\n",
    "    X, y = np.array(df_new), np.array(y_label_new) \n",
    "\n",
    "    clf = tree.DecisionTreeClassifier()\n",
    "    clf = clf.fit(X, y)\n",
    "    \n",
    "    k_folds = KFold(n_splits = n_splits, shuffle=True, random_state=True)\n",
    "\n",
    "    scores = cross_val_score(clf, X, y, cv = k_folds, scoring='accuracy')\n",
    "    \n",
    "    print(\"Cross Validation Scores: \", scores)\n",
    "    print(\"Average CV Score: {:.1%} \".format(scores.mean()))\n",
    "    print(\"Number of CV Scores used in Average: \", len(scores))\n",
    "    \n",
    "    return clf"
   ]
  },
  {
   "cell_type": "code",
   "execution_count": 837,
   "id": "2aadf77e",
   "metadata": {},
   "outputs": [
    {
     "name": "stdout",
     "output_type": "stream",
     "text": [
      "Cross Validation Scores:  [0.6409396  0.67785235 0.68624161 0.66778523 0.66610738 0.64932886\n",
      " 0.65268456 0.66778523 0.64597315 0.67114094]\n",
      "Average CV Score: 66.3% \n",
      "Number of CV Scores used in Average:  10\n"
     ]
    }
   ],
   "source": [
    "clf = decision_tree(rslt_df50[rslt_df50.columns[:-1]], rslt_df50['label'])"
   ]
  },
  {
   "cell_type": "code",
   "execution_count": 838,
   "id": "ae918325",
   "metadata": {},
   "outputs": [
    {
     "name": "stdout",
     "output_type": "stream",
     "text": [
      "Cross Validation Scores:  [0.5370138  0.54203262 0.52823087 0.55834379 0.52195734 0.5621079\n",
      " 0.55959849 0.55332497 0.54705144 0.55332497]\n",
      "Average CV Score: 54.6% \n",
      "Number of CV Scores used in Average:  10\n"
     ]
    }
   ],
   "source": [
    "clf = decision_tree(rslt_df100[rslt_df100.columns[:-1]], rslt_df100['label'])"
   ]
  },
  {
   "cell_type": "code",
   "execution_count": 839,
   "id": "0346a6b1",
   "metadata": {},
   "outputs": [
    {
     "name": "stdout",
     "output_type": "stream",
     "text": [
      "Cross Validation Scores:  [0.46847826 0.47173913 0.4673913  0.46847826 0.46195652 0.48695652\n",
      " 0.47717391 0.46304348 0.46789989 0.47334059]\n",
      "Average CV Score: 47.1% \n",
      "Number of CV Scores used in Average:  10\n"
     ]
    }
   ],
   "source": [
    "clf = decision_tree(rslt_df150[rslt_df150.columns[:-1]], rslt_df150['label'])"
   ]
  },
  {
   "cell_type": "markdown",
   "id": "f257bc58",
   "metadata": {},
   "source": [
    "try GCN "
   ]
  },
  {
   "cell_type": "markdown",
   "id": "7a92b54a",
   "metadata": {},
   "source": [
    "#### 合成 edge list"
   ]
  },
  {
   "cell_type": "code",
   "execution_count": 702,
   "id": "08cf0bdd",
   "metadata": {},
   "outputs": [],
   "source": [
    "egonets = []\n",
    "for filename in os.listdir(os.getcwd()+\"\\egonets\"):\n",
    "    with open(os.path.join(os.getcwd()+\"\\egonets\", filename), 'r') as f:\n",
    "        egonets += f.readlines()"
   ]
  },
  {
   "cell_type": "code",
   "execution_count": 703,
   "id": "f68c38ce",
   "metadata": {},
   "outputs": [],
   "source": [
    "pre = []\n",
    "\n",
    "for i in range(len(egonets)):\n",
    "    try:\n",
    "        if int(egonets[i].split(\":\")[0]) in df_new.index: # 把沒有出現在df_new的user的egonet 去除掉\n",
    "            pre.append(egonets[i])\n",
    "    except:\n",
    "        print(i)\n",
    "        break"
   ]
  },
  {
   "cell_type": "code",
   "execution_count": 704,
   "id": "8dc1ef94",
   "metadata": {},
   "outputs": [],
   "source": [
    "pre_final = []\n",
    "for ego in pre:\n",
    "    e1, es = ego.split(':')\n",
    "    es = es.split()\n",
    "\n",
    "    for e in es:\n",
    "        pre_final.append((int(e1), int(e)))"
   ]
  },
  {
   "cell_type": "code",
   "execution_count": 661,
   "id": "30c575e1",
   "metadata": {},
   "outputs": [],
   "source": [
    "import torch\n",
    "import torch.nn.functional as F\n",
    "from torch_geometric.nn import GCNConv\n",
    "\n",
    "class GCN(torch.nn.Module):\n",
    "    def __init__(self):\n",
    "        super().__init__()\n",
    "        self.conv1 = GCNConv(32, 16)\n",
    "        self.conv2 = GCNConv(16, 144)\n",
    "        self.conv3 = GCNConv(144, 144)\n",
    "        self.conv4 = GCNConv(144, 334)\n",
    "\n",
    "    def forward(self, data):\n",
    "        x, edge_index = data.x, data.edge_index\n",
    "        x = self.conv1(x, edge_index)\n",
    "        x = F.relu(x)\n",
    "        x = F.dropout(x, training=self.training)\n",
    "        x = self.conv2(x, edge_index)\n",
    "        x = self.conv3(x, edge_index)\n",
    "        x = F.relu(x)\n",
    "        x = self.conv4(x, edge_index)\n",
    "\n",
    "        return F.log_softmax(x, dim=1)"
   ]
  },
  {
   "cell_type": "code",
   "execution_count": 662,
   "id": "e5ca4644",
   "metadata": {},
   "outputs": [],
   "source": [
    "# 重整 label，讓原本可能是 0, 1, 2, 4, 9 變成按照順序 0, 1, 2, 3, 4\n",
    "y_label_final = []\n",
    "\n",
    "for i in range(len(y_label_new)):\n",
    "    y_label_final.append(new.index(y_label_new[i]))"
   ]
  },
  {
   "cell_type": "code",
   "execution_count": 663,
   "id": "b785be89",
   "metadata": {},
   "outputs": [],
   "source": [
    "# make train mask\n",
    "train_mask,  test_mask = [], []\n",
    "\n",
    "def make_mask(num_of_training, df_x):\n",
    "    for i in range(num_of_training):\n",
    "        train_mask.append(True)\n",
    "        test_mask.append(False)\n",
    "        \n",
    "    for i in range(len(df_x)-num_of_training):\n",
    "        train_mask.append(False)\n",
    "        test_mask.append(True)\n",
    "        \n",
    "    return torch.tensor(train_mask), torch.tensor(test_mask)"
   ]
  },
  {
   "cell_type": "code",
   "execution_count": 664,
   "id": "9853709f",
   "metadata": {},
   "outputs": [],
   "source": [
    "train_mask, test_mask = make_mask(9000, df_new)"
   ]
  },
  {
   "cell_type": "code",
   "execution_count": 673,
   "id": "0cc5b5e2",
   "metadata": {},
   "outputs": [
    {
     "data": {
      "text/plain": [
       "Data(x=[11244, 32], edge_index=[2, 12000], y=[11244], train_mask=[11244], test_mask=[11244])"
      ]
     },
     "execution_count": 673,
     "metadata": {},
     "output_type": "execute_result"
    }
   ],
   "source": [
    "from torch_geometric.data import Data\n",
    "\n",
    "x = torch.tensor(np.array(df_new.values, dtype=float), dtype=torch.float) \n",
    "y = torch.tensor(y_label_new)\n",
    "y = torch.tensor(y_label_final)\n",
    "edge_index = torch.tensor(pre_final)\n",
    "\n",
    "edge_index = edge_index[:12000]\n",
    "data = Data(x=x,y=y,edge_index=edge_index.transpose(0,1), train_mask=train_mask, test_mask=test_mask)\n",
    "data"
   ]
  },
  {
   "cell_type": "code",
   "execution_count": 674,
   "id": "9cd09f98",
   "metadata": {},
   "outputs": [],
   "source": [
    "device = torch.device('cuda' if torch.cuda.is_available() else 'cpu')\n",
    "model = GCN().to(device)\n",
    "dataset = data.to(device)\n",
    "optimizer = torch.optim.Adam(model.parameters(), lr=0.01, weight_decay=5e-4)\n",
    "\n",
    "model.train()\n",
    "for epoch in range(200):\n",
    "    optimizer.zero_grad()\n",
    "    out = model(dataset)\n",
    "    loss = F.nll_loss(out[data.train_mask], data.y[data.train_mask])\n",
    "    loss.backward()\n",
    "    optimizer.step()"
   ]
  },
  {
   "cell_type": "code",
   "execution_count": 675,
   "id": "250084fb",
   "metadata": {},
   "outputs": [
    {
     "name": "stdout",
     "output_type": "stream",
     "text": [
      "Accuracy: 0.0067\n"
     ]
    }
   ],
   "source": [
    "model.eval()\n",
    "pred = model(dataset).argmax(dim=1)\n",
    "correct = (pred[dataset.test_mask] == dataset.y[data.test_mask]).sum()\n",
    "acc = int(correct) / int(dataset.test_mask.sum())\n",
    "print(f'Accuracy: {acc:.4f}')"
   ]
  },
  {
   "cell_type": "code",
   "execution_count": null,
   "id": "1f41ee26",
   "metadata": {},
   "outputs": [],
   "source": [
    "edge_index"
   ]
  }
 ],
 "metadata": {
  "kernelspec": {
   "display_name": "data",
   "language": "python",
   "name": "data"
  },
  "language_info": {
   "codemirror_mode": {
    "name": "ipython",
    "version": 3
   },
   "file_extension": ".py",
   "mimetype": "text/x-python",
   "name": "python",
   "nbconvert_exporter": "python",
   "pygments_lexer": "ipython3",
   "version": "3.10.3"
  },
  "vscode": {
   "interpreter": {
    "hash": "24f8a31a1e1fed96a41353256e38a99697daefb9e8e54333c6b82ce637536777"
   }
  }
 },
 "nbformat": 4,
 "nbformat_minor": 5
}
